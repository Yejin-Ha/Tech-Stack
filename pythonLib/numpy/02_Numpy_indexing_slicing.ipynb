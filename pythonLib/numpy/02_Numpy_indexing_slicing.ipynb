{
 "cells": [
  {
   "cell_type": "markdown",
   "metadata": {},
   "source": [
    "# 인덱싱과 슬라이싱을 이용한 배열의 원소 조회"
   ]
  },
  {
   "cell_type": "markdown",
   "metadata": {},
   "source": [
    "## 배열 인덱싱(Indexing)\n",
    "- ### index\n",
    "    - 배열내의 원소의 식별번호\n",
    "    - 0부터 시작\n",
    "- ### indexing \n",
    "    – index를 이용해 원소 조회\n",
    "    - [] 표기법 사용\n",
    "- ### 구문 \n",
    "    - ndarray[index]\n",
    "    - 양수는 지정한 index의 값을 조회한다. \n",
    "    - 음수는 뒤부터 조회한다. \n",
    "        - 마지막 index가 -1\n",
    "    - 2차원배열의 경우 \n",
    "        - arr[행index, 열index]\n",
    "        - 파이썬 리스트와 차이점 (list[행][열])\n",
    "    - N차원 배열의 경우\n",
    "        - arr[0축 index, 1축 index, ..., n축 index]\n",
    "- ### 팬시(fancy) 인덱싱\n",
    "    - **여러개의 원소를 한번에 조회**할 경우 리스트에 담아 전달한다.\n",
    "    - 다차원 배열의 경우 각 축별로 list로 지정\n",
    "    - `arr[[1,2,3,4,5]]`\n",
    "        - 1차원 배열(vector): 1,2,3,4,5 번 index의 원소들 한번에 조회\n",
    "    - `arr[[0,3],[ 1,4]]`\n",
    "        - [0,3] - 1번축 index list, [1,4] - 2번축 index list\n",
    "        - 2차원 배열(matrix): [0,1], [3,4] 의 원소들 조회\n",
    "    - `arr[[1, 3], [4, 6]]`\n",
    "        - [1, 4]와 [3,. 6]을 찾는다"
   ]
  },
  {
   "cell_type": "code",
   "execution_count": 3,
   "metadata": {},
   "outputs": [],
   "source": [
    "import numpy as np"
   ]
  },
  {
   "cell_type": "code",
   "execution_count": 5,
   "metadata": {},
   "outputs": [
    {
     "name": "stdout",
     "output_type": "stream",
     "text": [
      "[[1, 2, 3], [10, 20, 30]]\n",
      "2\n"
     ]
    }
   ],
   "source": [
    "l = [\n",
    "    [1, 2, 3],\n",
    "    [10, 20, 30]\n",
    "]\n",
    "print(l)\n",
    "print(l[0][1])"
   ]
  },
  {
   "cell_type": "code",
   "execution_count": 6,
   "metadata": {},
   "outputs": [
    {
     "name": "stdout",
     "output_type": "stream",
     "text": [
      "[[ 1  2  3]\n",
      " [10 20 30]]\n",
      "2\n"
     ]
    }
   ],
   "source": [
    "a1 = np.array(l)\n",
    "print(a1)\n",
    "\n",
    "# 0축의 index, 1축의 index\n",
    "print(a1[0, 1])"
   ]
  },
  {
   "cell_type": "code",
   "execution_count": null,
   "metadata": {},
   "outputs": [],
   "source": [
    "# 아래의 a는 최소 5차원 배열\n",
    "a[1, 2, 3, 4, 5]"
   ]
  },
  {
   "cell_type": "code",
   "execution_count": 8,
   "metadata": {},
   "outputs": [
    {
     "name": "stdout",
     "output_type": "stream",
     "text": [
      "[0 1 2 3 4 5 6 7 8 9]\n",
      "0\n",
      "1 5\n"
     ]
    }
   ],
   "source": [
    "a = np.arange(10)\n",
    "print(a)\n",
    "print(a[0])\n",
    "print(a[1], a[5])"
   ]
  },
  {
   "cell_type": "code",
   "execution_count": 15,
   "metadata": {},
   "outputs": [],
   "source": [
    "a2 = np.arange(12)\n",
    "a2.shape\n",
    "\n",
    "a2 = a2.reshape(2, 2, 3)"
   ]
  },
  {
   "cell_type": "code",
   "execution_count": 16,
   "metadata": {},
   "outputs": [
    {
     "name": "stdout",
     "output_type": "stream",
     "text": [
      "7 5\n",
      "5\n"
     ]
    }
   ],
   "source": [
    "print(a2[1, 0, 1], a2[0, 1, 2])\n",
    "print(a2[0][1][2])"
   ]
  },
  {
   "cell_type": "code",
   "execution_count": 17,
   "metadata": {},
   "outputs": [
    {
     "data": {
      "text/plain": [
       "array([2, 5, 7])"
      ]
     },
     "execution_count": 17,
     "metadata": {},
     "output_type": "execute_result"
    }
   ],
   "source": [
    "# fancy indexing : 한번에 여러개값을 조회\n",
    "# 2, 5, 7\n",
    "# a[2, 5, 7] : 0축 - 2, 1축 - 5, 2축 - 7\n",
    "\n",
    "# 리스트로 조회할 index들을 묶어준다.\n",
    "a[[2, 5, 7]]"
   ]
  },
  {
   "cell_type": "code",
   "execution_count": 20,
   "metadata": {},
   "outputs": [
    {
     "name": "stdout",
     "output_type": "stream",
     "text": [
      "(2, 3)\n"
     ]
    },
    {
     "data": {
      "text/plain": [
       "array([[ 1,  2,  3],\n",
       "       [10, 20, 30]])"
      ]
     },
     "execution_count": 20,
     "metadata": {},
     "output_type": "execute_result"
    }
   ],
   "source": [
    "arr = np.array([[1, 2, 3], [10, 20, 30]])\n",
    "print(arr.shape)\n",
    "arr"
   ]
  },
  {
   "cell_type": "code",
   "execution_count": 22,
   "metadata": {},
   "outputs": [
    {
     "name": "stdout",
     "output_type": "stream",
     "text": [
      "1\n"
     ]
    },
    {
     "data": {
      "text/plain": [
       "30"
      ]
     },
     "execution_count": 22,
     "metadata": {},
     "output_type": "execute_result"
    }
   ],
   "source": [
    "print(arr[0, 0])\n",
    "\n",
    "# 배열[0축의 index, 1축의 index]\n",
    "arr[1, 2]"
   ]
  },
  {
   "cell_type": "code",
   "execution_count": 24,
   "metadata": {},
   "outputs": [
    {
     "name": "stdout",
     "output_type": "stream",
     "text": [
      "[[ 1  2  3]\n",
      " [10 20 30]]\n"
     ]
    },
    {
     "data": {
      "text/plain": [
       "array([ 1, 30, 20])"
      ]
     },
     "execution_count": 24,
     "metadata": {},
     "output_type": "execute_result"
    }
   ],
   "source": [
    "print(arr)\n",
    "arr[[0, 1, 1], [0, 2, 1]]"
   ]
  },
  {
   "cell_type": "code",
   "execution_count": 29,
   "metadata": {},
   "outputs": [
    {
     "name": "stdout",
     "output_type": "stream",
     "text": [
      "[[[ 0  1  2]\n",
      "  [ 3  4  5]]\n",
      "\n",
      " [[ 6  7  8]\n",
      "  [ 9 10 11]]]\n"
     ]
    },
    {
     "data": {
      "text/plain": [
       "array([ 1,  8, 11])"
      ]
     },
     "execution_count": 29,
     "metadata": {},
     "output_type": "execute_result"
    }
   ],
   "source": [
    "print(a2)\n",
    "\n",
    "# 1, 8, 11 출력\n",
    "a2[[0, 1, 1], [0, 0, 1], [1, 2, 2]]\n",
    "# 1 : [0, 0, 1]\n",
    "# 8 : [1, 0, 2]\n",
    "# 11 : [1, 1, 2]"
   ]
  },
  {
   "cell_type": "code",
   "execution_count": 30,
   "metadata": {},
   "outputs": [
    {
     "name": "stdout",
     "output_type": "stream",
     "text": [
      "[[[ 0  1  2]\n",
      "  [ 3  4  5]]\n",
      "\n",
      " [[ 6  7  8]\n",
      "  [ 9 10 11]]]\n"
     ]
    },
    {
     "data": {
      "text/plain": [
       "array([[ 0,  1,  2],\n",
       "       [ 9, 10, 11]])"
      ]
     },
     "execution_count": 30,
     "metadata": {},
     "output_type": "execute_result"
    }
   ],
   "source": [
    "print(a2)\n",
    "\n",
    "# a2[0, 0], a2[1, 1]\n",
    "a2[[0, 1], [0, 1]]"
   ]
  },
  {
   "cell_type": "code",
   "execution_count": null,
   "metadata": {},
   "outputs": [],
   "source": []
  },
  {
   "cell_type": "code",
   "execution_count": null,
   "metadata": {},
   "outputs": [],
   "source": []
  },
  {
   "cell_type": "markdown",
   "metadata": {},
   "source": [
    "## 슬라이싱\n",
    "- 배열의 부분 집합을 하위배열로 조회 및 변경하는 방식\n",
    "- ndarry[start : stop : step ]\n",
    "    - start : 시작 인덱스.\n",
    "        - default = 0\n",
    "    - stop : 끝 index. stop은 포함하지 않는다. \n",
    "        - default = end index\n",
    "    - step : 증감 간격\n",
    "        - default = 1"
   ]
  },
  {
   "cell_type": "code",
   "execution_count": 32,
   "metadata": {},
   "outputs": [
    {
     "data": {
      "text/plain": [
       "(100,)"
      ]
     },
     "execution_count": 32,
     "metadata": {},
     "output_type": "execute_result"
    }
   ],
   "source": [
    "a = np.arange(100)\n",
    "a.shape"
   ]
  },
  {
   "cell_type": "code",
   "execution_count": 39,
   "metadata": {},
   "outputs": [
    {
     "name": "stdout",
     "output_type": "stream",
     "text": [
      "[10 12 14 16 18 20 22 24 26 28 30 32 34 36 38 40 42 44 46 48 50]\n",
      "[ 0  5 10 15 20 25 30 35 40 45]\n",
      "[50 60 70 80 90]\n",
      "[1 2 3 4 5 6 7 8 9]\n",
      "[ 0  1  2  3  4  5  6  7  8  9 10 11 12 13 14 15 16 17 18 19 20 21 22 23\n",
      " 24 25 26 27 28 29 30 31 32 33 34 35 36 37 38 39 40 41 42 43 44 45 46 47\n",
      " 48 49 50 51 52 53 54 55 56 57 58 59 60 61 62 63 64 65 66 67 68 69 70 71\n",
      " 72 73 74 75 76 77 78 79 80 81 82 83 84 85 86 87 88 89 90 91 92 93 94 95\n",
      " 96 97 98 99]\n"
     ]
    }
   ],
   "source": [
    "# 10 ~ 51 - 1까지 step 2\n",
    "print(a[10:51:2])\n",
    "\n",
    "# 0 ~ 50-1, step : 5\n",
    "print(a[:50:5])\n",
    "\n",
    "# 50 ~ 끝, step: 10\n",
    "print(a[50::10])\n",
    "\n",
    "# 1 ~ 9, step : 1\n",
    "print(a[1:10])\n",
    "\n",
    "# 0 ~ 끝, step : 1\n",
    "print(a[:])"
   ]
  },
  {
   "cell_type": "code",
   "execution_count": 40,
   "metadata": {},
   "outputs": [
    {
     "name": "stdout",
     "output_type": "stream",
     "text": [
      "[10  9  8  7  6  5  4  3  2]\n"
     ]
    }
   ],
   "source": [
    "# step(증감)을 음수 => 역순으로 조회(reverse)\n",
    "# 10 ~ 1+1, step: -1\n",
    "print(a[10:1:-1])\n"
   ]
  },
  {
   "cell_type": "code",
   "execution_count": null,
   "metadata": {},
   "outputs": [],
   "source": []
  },
  {
   "cell_type": "markdown",
   "metadata": {},
   "source": [
    "### 다차원 배열 슬라이싱\n",
    "- 각 축에 slicing 문법 적용\n",
    "- 2차원의 경우\n",
    "    - arr [행 slicing, 열 slicing]\n",
    "        - `arr[:3, :]`\n",
    "    - `,` 로 행과 열을 구분한 다중 슬라이싱 사용\n",
    "- 다차원의 경우\n",
    "    - arr[0축 slicing, 1축 slicing, ..., n축 slicing]\n",
    "- slicing과 indexing 문법은 같이 쓸 수 있다.\n",
    "- 모든 축에 index를 지정할 필요는 없다."
   ]
  },
  {
   "cell_type": "code",
   "execution_count": 41,
   "metadata": {},
   "outputs": [
    {
     "name": "stdout",
     "output_type": "stream",
     "text": [
      "(6, 8)\n"
     ]
    },
    {
     "data": {
      "text/plain": [
       "array([[ 0,  1,  2,  3,  4,  5,  6,  7],\n",
       "       [ 8,  9, 10, 11, 12, 13, 14, 15],\n",
       "       [16, 17, 18, 19, 20, 21, 22, 23],\n",
       "       [24, 25, 26, 27, 28, 29, 30, 31],\n",
       "       [32, 33, 34, 35, 36, 37, 38, 39],\n",
       "       [40, 41, 42, 43, 44, 45, 46, 47]])"
      ]
     },
     "execution_count": 41,
     "metadata": {},
     "output_type": "execute_result"
    }
   ],
   "source": [
    "a = np.arange(48).reshape(6, 8)\n",
    "print(a.shape)\n",
    "a"
   ]
  },
  {
   "cell_type": "code",
   "execution_count": 47,
   "metadata": {},
   "outputs": [
    {
     "name": "stdout",
     "output_type": "stream",
     "text": [
      "[[ 9 10 11 12 13]\n",
      " [17 18 19 20 21]\n",
      " [25 26 27 28 29]\n",
      " [33 34 35 36 37]]\n",
      "[[ 9 11 13 15]\n",
      " [17 19 21 23]\n",
      " [25 27 29 31]\n",
      " [33 35 37 39]]\n",
      "[[ 0  2]\n",
      " [ 8 10]\n",
      " [16 18]\n",
      " [24 26]\n",
      " [32 34]\n",
      " [40 42]]\n"
     ]
    }
   ],
   "source": [
    "# 0축: 1~4, step : +1\n",
    "# 1축: 1~5, step : +1\n",
    "print(a[1:5, 1:6])\n",
    "\n",
    "# 0축: 1~4, step : +1\n",
    "# 1축: 1~끝, step : +2\n",
    "print(a[1:5, 1::2])\n",
    "\n",
    "# 0축: all, step : +1\n",
    "# 1축: 0, 2\n",
    "print(a[:, [0,2]])"
   ]
  },
  {
   "cell_type": "code",
   "execution_count": null,
   "metadata": {},
   "outputs": [],
   "source": []
  },
  {
   "cell_type": "code",
   "execution_count": null,
   "metadata": {},
   "outputs": [],
   "source": []
  },
  {
   "cell_type": "markdown",
   "metadata": {},
   "source": [
    "### 슬라이싱은 원본에 대한 View \n",
    "- slicing한 결과는 새로운 배열을 생성하는 것이 아니라 기존 배열을 참조한다.\n",
    "- slicing한 `배열의 원소를 변경하면 원본 배열의 것도 바뀐다.`\n",
    "- 배열.copy()\n",
    "    - 배열을 복사한 새로운 배열 생성\n",
    "    - 복사후 처리하면 원본이 바뀌지 않는다.\n",
    "- 원본을 건들지 않겠다면 copy()를 사용하고 건들여도 상관없으면 slicing을 사용한다."
   ]
  },
  {
   "cell_type": "code",
   "execution_count": 55,
   "metadata": {},
   "outputs": [
    {
     "data": {
      "text/plain": [
       "array([[ 0,  1,  2,  3,  4,  5,  6,  7],\n",
       "       [ 8,  9, 10, 11, 12, 13, 14, 15],\n",
       "       [16, 17, 18, 19, 20, 21, 22, 23],\n",
       "       [24, 25, 26, 27, 28, 29, 30, 31],\n",
       "       [32, 33, 34, 35, 36, 37, 38, 39],\n",
       "       [40, 41, 42, 43, 44, 45, 46, 47]])"
      ]
     },
     "execution_count": 55,
     "metadata": {},
     "output_type": "execute_result"
    }
   ],
   "source": [
    "a = np.arange(48).reshape(6, 8)\n",
    "a"
   ]
  },
  {
   "cell_type": "code",
   "execution_count": 57,
   "metadata": {},
   "outputs": [
    {
     "name": "stdout",
     "output_type": "stream",
     "text": [
      "[[ 9 10 11 12 13]\n",
      " [17 18 19 20 21]\n",
      " [25 26 27 28 29]\n",
      " [33 34 35 36 37]]\n",
      "[[ 1  2  3  4  5]\n",
      " [ 9 10 11 12 13]\n",
      " [17 18 19 20 21]]\n"
     ]
    }
   ],
   "source": [
    "b = a[1:5, 1:6]\n",
    "c = a[0:3, 1:6]\n",
    "\n",
    "print(b)\n",
    "print(c)"
   ]
  },
  {
   "cell_type": "code",
   "execution_count": 60,
   "metadata": {},
   "outputs": [
    {
     "name": "stdout",
     "output_type": "stream",
     "text": [
      "[[9000   10   11   12   13]\n",
      " [  17   18   19   20   21]\n",
      " [  25   26   27   28   29]\n",
      " [  33   34   35   36   37]]\n",
      "[[   1    2    3    4    5]\n",
      " [9000   10   11   12   13]\n",
      " [  17   18   19   20   21]]\n"
     ]
    }
   ],
   "source": [
    "b[0, 0] = 9000\n",
    "print(b)\n",
    "print(c)"
   ]
  },
  {
   "cell_type": "code",
   "execution_count": 61,
   "metadata": {},
   "outputs": [
    {
     "data": {
      "text/plain": [
       "array([[   0,    1,    2,    3,    4,    5,    6,    7],\n",
       "       [   8, 9000,   10,   11,   12,   13,   14,   15],\n",
       "       [  16,   17,   18,   19,   20,   21,   22,   23],\n",
       "       [  24,   25,   26,   27,   28,   29,   30,   31],\n",
       "       [  32,   33,   34,   35,   36,   37,   38,   39],\n",
       "       [  40,   41,   42,   43,   44,   45,   46,   47]])"
      ]
     },
     "execution_count": 61,
     "metadata": {},
     "output_type": "execute_result"
    }
   ],
   "source": [
    "a"
   ]
  },
  {
   "cell_type": "code",
   "execution_count": 62,
   "metadata": {},
   "outputs": [
    {
     "name": "stdout",
     "output_type": "stream",
     "text": [
      "[[5555   10   11   12   13]\n",
      " [  17   18   19   20   21]\n",
      " [  25   26   27   28   29]\n",
      " [  33   34   35   36   37]]\n",
      "[[   0    1    2    3    4    5    6    7]\n",
      " [   8 9000   10   11   12   13   14   15]\n",
      " [  16   17   18   19   20   21   22   23]\n",
      " [  24   25   26   27   28   29   30   31]\n",
      " [  32   33   34   35   36   37   38   39]\n",
      " [  40   41   42   43   44   45   46   47]]\n"
     ]
    }
   ],
   "source": [
    "# ndarray.copy() => 배열을 복사\n",
    "d = a[1:5, 1:6].copy()\n",
    "\n",
    "d[0, 0] = 5555\n",
    "print(d)\n",
    "print(a)"
   ]
  },
  {
   "cell_type": "code",
   "execution_count": null,
   "metadata": {},
   "outputs": [],
   "source": []
  },
  {
   "cell_type": "code",
   "execution_count": null,
   "metadata": {},
   "outputs": [],
   "source": []
  },
  {
   "cell_type": "markdown",
   "metadata": {},
   "source": [
    "## boolean indexing\n",
    "- Index 연산자에 Boolean 배열을 넣으면 True인 index의 값만 조회 (False가 있는 index는 조회하지 않는다.)\n",
    "- ndarray내의 원소 중에서 원하는 조건의 값들만 조회할 때 사용"
   ]
  },
  {
   "cell_type": "code",
   "execution_count": 63,
   "metadata": {},
   "outputs": [
    {
     "data": {
      "text/plain": [
       "array([0, 1, 2])"
      ]
     },
     "execution_count": 63,
     "metadata": {},
     "output_type": "execute_result"
    }
   ],
   "source": [
    "a = np.arange(3)\n",
    "a"
   ]
  },
  {
   "cell_type": "code",
   "execution_count": 64,
   "metadata": {},
   "outputs": [
    {
     "data": {
      "text/plain": [
       "array([0, 2])"
      ]
     },
     "execution_count": 64,
     "metadata": {},
     "output_type": "execute_result"
    }
   ],
   "source": [
    "a[[0, 2]]"
   ]
  },
  {
   "cell_type": "code",
   "execution_count": 65,
   "metadata": {},
   "outputs": [
    {
     "data": {
      "text/plain": [
       "array([0, 1])"
      ]
     },
     "execution_count": 65,
     "metadata": {},
     "output_type": "execute_result"
    }
   ],
   "source": [
    "# masking\n",
    "b = [True, True, False]\n",
    "\n",
    "# True인 index만 조회\n",
    "a[b]"
   ]
  },
  {
   "cell_type": "code",
   "execution_count": 66,
   "metadata": {},
   "outputs": [
    {
     "name": "stdout",
     "output_type": "stream",
     "text": [
      "[0 1 2]\n"
     ]
    },
    {
     "data": {
      "text/plain": [
       "array([False, False, False])"
      ]
     },
     "execution_count": 66,
     "metadata": {},
     "output_type": "execute_result"
    }
   ],
   "source": [
    "print(a)\n",
    "a > 10"
   ]
  },
  {
   "cell_type": "code",
   "execution_count": 68,
   "metadata": {},
   "outputs": [
    {
     "name": "stdout",
     "output_type": "stream",
     "text": [
      "[10 11 12]\n"
     ]
    },
    {
     "data": {
      "text/plain": [
       "array([0, 1, 2])"
      ]
     },
     "execution_count": 68,
     "metadata": {},
     "output_type": "execute_result"
    }
   ],
   "source": [
    "print(a + 10)\n",
    "a"
   ]
  },
  {
   "cell_type": "code",
   "execution_count": 69,
   "metadata": {},
   "outputs": [
    {
     "data": {
      "text/plain": [
       "array([1, 2])"
      ]
     },
     "execution_count": 69,
     "metadata": {},
     "output_type": "execute_result"
    }
   ],
   "source": [
    "# 배열 a의 원소 중 1이상인 값들만 조회\n",
    "# => 특정 조건을 만족하는 원소들만 조회할 때 boolean indexing을 사용한다.\n",
    "a[a>=1]"
   ]
  },
  {
   "cell_type": "code",
   "execution_count": 70,
   "metadata": {},
   "outputs": [
    {
     "data": {
      "text/plain": [
       "array([87, 71, 15, 56, 19,  1, 69, 78, 57,  5, 86, 24, 45, 55, 57, 43, 57,\n",
       "       94, 16, 40, 76, 89, 42, 22, 69, 92, 75,  0, 22, 93, 50, 63,  0, 99,\n",
       "       86, 82, 92, 97, 38, 87,  7, 61, 16, 49, 93, 46, 33, 12,  1, 66, 37,\n",
       "       56, 84, 36, 68, 91, 11,  8, 39, 82, 40, 96, 51, 80, 92, 37, 67, 77,\n",
       "       58, 52, 71, 43, 84, 86, 39, 41, 16, 87, 74, 39, 37, 74, 31, 30, 56,\n",
       "       48,  8, 91, 30, 48, 76, 97, 24, 75, 10, 84, 65, 49, 15, 39])"
      ]
     },
     "execution_count": 70,
     "metadata": {},
     "output_type": "execute_result"
    }
   ],
   "source": [
    "b = np.random.randint(100, size=100)\n",
    "b"
   ]
  },
  {
   "cell_type": "code",
   "execution_count": 73,
   "metadata": {},
   "outputs": [
    {
     "data": {
      "text/plain": [
       "array([87, 71, 56, 69, 78, 57, 86, 55, 57, 57, 94, 76, 89, 69, 92, 75, 93,\n",
       "       50, 63, 99, 86, 82, 92, 97, 87, 61, 93, 66, 56, 84, 68, 91, 82, 96,\n",
       "       51, 80, 92, 67, 77, 58, 52, 71, 84, 86, 87, 74, 74, 56, 91, 76, 97,\n",
       "       75, 84, 65])"
      ]
     },
     "execution_count": 73,
     "metadata": {},
     "output_type": "execute_result"
    }
   ],
   "source": [
    "# ND array에 boolean indexing을 적용하면 True값들만 1차원 배열에 모아서 반환\n",
    "b[b>=50]"
   ]
  },
  {
   "cell_type": "code",
   "execution_count": 78,
   "metadata": {},
   "outputs": [
    {
     "name": "stdout",
     "output_type": "stream",
     "text": [
      "[56 69 57 55 57 57 69 50 63 61 66 56 68 51 67 58 52 56 65]\n",
      "[15 19  1  5 24 45 43 16 40 42 22  0 22 50  0 38  7 16 49 46 33 12  1 37\n",
      " 36 11  8 39 40 37 43 39 41 16 39 37 31 30 48  8 30 48 24 10 49 15 39]\n"
     ]
    }
   ],
   "source": [
    "# 50 ~ 70 사이의 정수?\n",
    "# 넘파이 논리연산자의 경우 파이썬의 and or 는 사용할 수 없다.\n",
    "# and : &, or: |, not: ~ \n",
    "# 피연산자는 반드시 ()로 묶어줘야 한다.\n",
    "\n",
    "# 50이상 70이하 출력\n",
    "print(b[(b>=50) & (b<=70)])\n",
    "\n",
    "# 50 미만 출력\n",
    "print(b[~(b>50)])"
   ]
  },
  {
   "cell_type": "code",
   "execution_count": null,
   "metadata": {},
   "outputs": [],
   "source": []
  },
  {
   "cell_type": "code",
   "execution_count": null,
   "metadata": {},
   "outputs": [],
   "source": []
  },
  {
   "cell_type": "markdown",
   "metadata": {},
   "source": [
    "### np.where()\n",
    "- np.where(boolean 배열) - True인 index를 반환\n",
    "- boolean연산과 같이쓰면 특정 조건을 만족하는 원소의 index조회됨.\n",
    "- np.where(booean 배열, True를 대체할 값, False를 대체할 값)\n",
    "    - True와 False를 다른 값으로 변경한다."
   ]
  },
  {
   "cell_type": "code",
   "execution_count": 80,
   "metadata": {},
   "outputs": [
    {
     "data": {
      "text/plain": [
       "(array([0, 2], dtype=int64),)"
      ]
     },
     "execution_count": 80,
     "metadata": {},
     "output_type": "execute_result"
    }
   ],
   "source": [
    "l = [True, False, True]\n",
    "l = np.array(l)\n",
    "\n",
    "# 리스트에서 True 값들의 index들을 반환(반환타입: Tuple)\n",
    "np.where(l)"
   ]
  },
  {
   "cell_type": "code",
   "execution_count": 83,
   "metadata": {},
   "outputs": [
    {
     "name": "stdout",
     "output_type": "stream",
     "text": [
      "['참' '거짓' '참']\n",
      "['참' 'False' '참']\n"
     ]
    }
   ],
   "source": [
    "# True -> '참', False -> '거짓'\n",
    "print(np.where(l, '참', '거짓'))\n",
    "\n",
    "# True -> '참', False -> 원래값\n",
    "print(np.where(l, '참', l))"
   ]
  },
  {
   "cell_type": "code",
   "execution_count": 86,
   "metadata": {},
   "outputs": [
    {
     "data": {
      "text/plain": [
       "array(['50이상', '50이상', '50미만', '50이상', '50미만', '50미만', '50이상', '50이상',\n",
       "       '50이상', '50미만', '50이상', '50미만', '50미만', '50이상', '50이상', '50미만',\n",
       "       '50이상', '50이상', '50미만', '50미만', '50이상', '50이상', '50미만', '50미만',\n",
       "       '50이상', '50이상', '50이상', '50미만', '50미만', '50이상', '50이상', '50이상',\n",
       "       '50미만', '50이상', '50이상', '50이상', '50이상', '50이상', '50미만', '50이상',\n",
       "       '50미만', '50이상', '50미만', '50미만', '50이상', '50미만', '50미만', '50미만',\n",
       "       '50미만', '50이상', '50미만', '50이상', '50이상', '50미만', '50이상', '50이상',\n",
       "       '50미만', '50미만', '50미만', '50이상', '50미만', '50이상', '50이상', '50이상',\n",
       "       '50이상', '50미만', '50이상', '50이상', '50이상', '50이상', '50이상', '50미만',\n",
       "       '50이상', '50이상', '50미만', '50미만', '50미만', '50이상', '50이상', '50미만',\n",
       "       '50미만', '50이상', '50미만', '50미만', '50이상', '50미만', '50미만', '50이상',\n",
       "       '50미만', '50미만', '50이상', '50이상', '50미만', '50이상', '50미만', '50이상',\n",
       "       '50이상', '50미만', '50미만', '50미만'], dtype='<U4')"
      ]
     },
     "execution_count": 86,
     "metadata": {},
     "output_type": "execute_result"
    }
   ],
   "source": [
    "# b의 원소 중 50이상인 **값**들 조회\n",
    "# b[b>=50]\n",
    "\n",
    "# b의 원소 중 50이상인 값들의 **index** 조회\n",
    "np.where(b>=50, '50이상', '50미만')"
   ]
  },
  {
   "cell_type": "code",
   "execution_count": 87,
   "metadata": {},
   "outputs": [
    {
     "data": {
      "text/plain": [
       "array([70, 70, 15, 56, 19,  1, 69, 70, 57,  5, 70, 24, 45, 55, 57, 43, 57,\n",
       "       70, 16, 40, 70, 70, 42, 22, 69, 70, 70,  0, 22, 70, 50, 63,  0, 70,\n",
       "       70, 70, 70, 70, 38, 70,  7, 61, 16, 49, 70, 46, 33, 12,  1, 66, 37,\n",
       "       56, 70, 36, 68, 70, 11,  8, 39, 70, 40, 70, 51, 70, 70, 37, 67, 70,\n",
       "       58, 52, 70, 43, 70, 70, 39, 41, 16, 70, 70, 39, 37, 70, 31, 30, 56,\n",
       "       48,  8, 70, 30, 48, 70, 70, 24, 70, 10, 70, 65, 49, 15, 39])"
      ]
     },
     "execution_count": 87,
     "metadata": {},
     "output_type": "execute_result"
    }
   ],
   "source": [
    "# 70이상인 값들은 모두 70으로 변환, 70미만은 그대로 유지\n",
    "np.where(b>=70, 70, b)"
   ]
  },
  {
   "cell_type": "code",
   "execution_count": 88,
   "metadata": {},
   "outputs": [
    {
     "name": "stdout",
     "output_type": "stream",
     "text": [
      "(3, 4)\n"
     ]
    },
    {
     "data": {
      "text/plain": [
       "array([[ 0,  1,  2,  3],\n",
       "       [ 4,  5,  6,  7],\n",
       "       [ 8,  9, 10, 11]])"
      ]
     },
     "execution_count": 88,
     "metadata": {},
     "output_type": "execute_result"
    }
   ],
   "source": [
    "c = np.arange(12).reshape(3, 4)\n",
    "print(c.shape)\n",
    "c"
   ]
  },
  {
   "cell_type": "code",
   "execution_count": 89,
   "metadata": {},
   "outputs": [
    {
     "data": {
      "text/plain": [
       "(array([1, 1, 2, 2, 2, 2], dtype=int64),\n",
       " array([2, 3, 0, 1, 2, 3], dtype=int64))"
      ]
     },
     "execution_count": 89,
     "metadata": {},
     "output_type": "execute_result"
    }
   ],
   "source": [
    "np.where(c > 5)\n",
    "# 반환: tupel\n",
    "# (배열, 배열)\n",
    "\n",
    "# (array([1, 1, 2, 2, 2, 2], dtype=int64),\n",
    "# array([2, 3, 0, 1, 2, 3], dtype=int64))\n",
    "# (1, 2), (1, 3), (2, 0) ... 이 True이다."
   ]
  },
  {
   "cell_type": "code",
   "execution_count": 90,
   "metadata": {},
   "outputs": [
    {
     "name": "stdout",
     "output_type": "stream",
     "text": [
      "(2, 2, 3)\n"
     ]
    }
   ],
   "source": [
    "d = np.arange(12).reshape(2, 2, 3)\n",
    "print(d.shape)"
   ]
  },
  {
   "cell_type": "code",
   "execution_count": 91,
   "metadata": {},
   "outputs": [
    {
     "data": {
      "text/plain": [
       "(array([1, 1, 1, 1], dtype=int64),\n",
       " array([0, 1, 1, 1], dtype=int64),\n",
       " array([2, 0, 1, 2], dtype=int64))"
      ]
     },
     "execution_count": 91,
     "metadata": {},
     "output_type": "execute_result"
    }
   ],
   "source": [
    "np.where(d>7)"
   ]
  },
  {
   "cell_type": "markdown",
   "metadata": {},
   "source": [
    "- 2차원도 마찮가지\n",
    "    - 단 where는 축별로 배열이 반환된다. [0,1], [2,3] => (0,2)  (1,3)\n",
    "    - 보통 Vector에 적용한다."
   ]
  },
  {
   "cell_type": "code",
   "execution_count": null,
   "metadata": {},
   "outputs": [],
   "source": []
  },
  {
   "cell_type": "code",
   "execution_count": null,
   "metadata": {},
   "outputs": [],
   "source": []
  },
  {
   "cell_type": "markdown",
   "metadata": {},
   "source": [
    "### 기타\n",
    "- np.any(boolean 배열)\n",
    "    - 배열에 True가 하나라도 있으면 True 반환\n",
    "- np.all(boolean 배열)\n",
    "    - 배열의 모든 원소가 True이면 True 반환"
   ]
  },
  {
   "cell_type": "code",
   "execution_count": 94,
   "metadata": {},
   "outputs": [
    {
     "name": "stdout",
     "output_type": "stream",
     "text": [
      "True\n",
      "False\n"
     ]
    }
   ],
   "source": [
    "# 배열 b에 99이상인 값이 하나라도 있는지 여부?\n",
    "print(np.any(b >= 99))\n",
    "\n",
    "# 배열 b의 모든 원소들이 90 이상인지 여부?\n",
    "print(np.all(b >= 90))"
   ]
  },
  {
   "cell_type": "code",
   "execution_count": null,
   "metadata": {},
   "outputs": [],
   "source": []
  },
  {
   "cell_type": "code",
   "execution_count": null,
   "metadata": {},
   "outputs": [],
   "source": []
  },
  {
   "cell_type": "markdown",
   "metadata": {},
   "source": [
    "### 정렬\n",
    "- np.sort(arr, axis=)\n",
    "    - 매개변수로 전달한 배열을 정렬한 새로운 배열을 반환\n",
    "    - arr은 변경되지 않는다.\n",
    "    - axis를 기준으로 정렬한다.\n",
    "        - default = -1(마지막축)\n",
    "        - 기본값이 있지만 항상 지정해주는 것이 안전하다.\n",
    "- ndarray.sort()\n",
    "    - ndarray 객체 자체를 정렬\n",
    "- np.argsort(arr)\n",
    "    - 정렬 후 **index**를 반환"
   ]
  },
  {
   "cell_type": "code",
   "execution_count": 95,
   "metadata": {},
   "outputs": [
    {
     "name": "stdout",
     "output_type": "stream",
     "text": [
      "[4 1 6 9 2]\n",
      "[1 2 4 6 9]\n",
      "[4 1 6 9 2]\n"
     ]
    }
   ],
   "source": [
    "x = np.array([4, 1, 6, 9, 2])\n",
    "print(x)\n",
    "\n",
    "# x를 정렬한 원소들을 가지는 새로운 배열을 반환\n",
    "print(np.sort(x))\n",
    "print(x)"
   ]
  },
  {
   "cell_type": "code",
   "execution_count": 96,
   "metadata": {},
   "outputs": [
    {
     "data": {
      "text/plain": [
       "array([1, 2, 4, 6, 9])"
      ]
     },
     "execution_count": 96,
     "metadata": {},
     "output_type": "execute_result"
    }
   ],
   "source": [
    "# 객체 자체를 정렬\n",
    "x.sort()\n",
    "x"
   ]
  },
  {
   "cell_type": "code",
   "execution_count": 97,
   "metadata": {},
   "outputs": [
    {
     "data": {
      "text/plain": [
       "array([9, 6, 4, 2, 1])"
      ]
     },
     "execution_count": 97,
     "metadata": {},
     "output_type": "execute_result"
    }
   ],
   "source": [
    "z = np.array([4, 1, 6, 9, 2])\n",
    "\n",
    "# 내림차순 정렬 -> slicing 이용\n",
    "np.sort(z)[::-1]"
   ]
  },
  {
   "cell_type": "code",
   "execution_count": 100,
   "metadata": {},
   "outputs": [
    {
     "data": {
      "text/plain": [
       "array([9, 6, 4, 2, 1])"
      ]
     },
     "execution_count": 100,
     "metadata": {},
     "output_type": "execute_result"
    }
   ],
   "source": [
    "# 음수를 붙여서 값을 정렬하고 다시 음수를 붙여서 원상복구하는 방법도 있다.\n",
    "# 하지만 이건 불편하니 이것보다 위의 slicing을 이용하도록 하자\n",
    "-np.sort(-z)"
   ]
  },
  {
   "cell_type": "code",
   "execution_count": 103,
   "metadata": {},
   "outputs": [
    {
     "data": {
      "text/plain": [
       "array([0.1, 0.4, 0.7])"
      ]
     },
     "execution_count": 103,
     "metadata": {},
     "output_type": "execute_result"
    }
   ],
   "source": [
    "a = np.array([0.1, 0.7, 0.4])\n",
    "\n",
    "# 오름차순 정렬했을 때 먼저오는 index : 0, 2, 1\n",
    "sort_idx = np.argsort(a)\n",
    "# sort_idx는 [0, 2, 1]가 되는데 이를 통해서 다음과 같이 값을 정렬할 수 있다.\n",
    "\n",
    "a[sort_idx]"
   ]
  },
  {
   "cell_type": "code",
   "execution_count": 108,
   "metadata": {},
   "outputs": [
    {
     "name": "stdout",
     "output_type": "stream",
     "text": [
      "(3, 3)\n"
     ]
    },
    {
     "data": {
      "text/plain": [
       "array([[ 1,  0,  5],\n",
       "       [ 0, 10,  2],\n",
       "       [ 8,  7,  6]])"
      ]
     },
     "execution_count": 108,
     "metadata": {},
     "output_type": "execute_result"
    }
   ],
   "source": [
    "# 다차원 배열 정렬\n",
    "# np.sort(배열, axis=기준축) 기준축 생략시 마지막 축을 기준으로 정렬\n",
    "l = [\n",
    "    [1, 0, 5],\n",
    "    [0, 10, 2],\n",
    "    [8, 7, 6]\n",
    "]\n",
    "\n",
    "arr = np.array(l)\n",
    "print(arr.shape)\n",
    "arr"
   ]
  },
  {
   "cell_type": "code",
   "execution_count": 111,
   "metadata": {},
   "outputs": [
    {
     "name": "stdout",
     "output_type": "stream",
     "text": [
      "[[ 0  0  2]\n",
      " [ 1  7  5]\n",
      " [ 8 10  6]]\n",
      "[[ 0  1  5]\n",
      " [ 0  2 10]\n",
      " [ 6  7  8]]\n"
     ]
    }
   ],
   "source": [
    "# axis=0 : col끼리 정렬\n",
    "print(np.sort(arr, axis=0))\n",
    "\n",
    "# axis=1 : row끼리 정렬\n",
    "print(np.sort(arr))"
   ]
  },
  {
   "cell_type": "code",
   "execution_count": null,
   "metadata": {},
   "outputs": [],
   "source": []
  },
  {
   "cell_type": "code",
   "execution_count": null,
   "metadata": {},
   "outputs": [],
   "source": []
  },
  {
   "cell_type": "code",
   "execution_count": null,
   "metadata": {},
   "outputs": [],
   "source": []
  }
 ],
 "metadata": {
  "kernelspec": {
   "display_name": "Python 3",
   "language": "python",
   "name": "python3"
  },
  "language_info": {
   "codemirror_mode": {
    "name": "ipython",
    "version": 3
   },
   "file_extension": ".py",
   "mimetype": "text/x-python",
   "name": "python",
   "nbconvert_exporter": "python",
   "pygments_lexer": "ipython3",
   "version": "3.8.5"
  },
  "toc": {
   "base_numbering": 1,
   "nav_menu": {},
   "number_sections": false,
   "sideBar": false,
   "skip_h1_title": false,
   "title_cell": "Table of Contents",
   "title_sidebar": "Contents",
   "toc_cell": false,
   "toc_position": {},
   "toc_section_display": true,
   "toc_window_display": false
  },
  "varInspector": {
   "cols": {
    "lenName": 16,
    "lenType": 16,
    "lenVar": 40
   },
   "kernels_config": {
    "python": {
     "delete_cmd_postfix": "",
     "delete_cmd_prefix": "del ",
     "library": "var_list.py",
     "varRefreshCmd": "print(var_dic_list())"
    },
    "r": {
     "delete_cmd_postfix": ") ",
     "delete_cmd_prefix": "rm(",
     "library": "var_list.r",
     "varRefreshCmd": "cat(var_dic_list()) "
    }
   },
   "types_to_exclude": [
    "module",
    "function",
    "builtin_function_or_method",
    "instance",
    "_Feature"
   ],
   "window_display": false
  }
 },
 "nbformat": 4,
 "nbformat_minor": 2
}
