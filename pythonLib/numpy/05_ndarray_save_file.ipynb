{
 "cells": [
  {
   "cell_type": "markdown",
   "source": [
    "# 배열을 파일에 저장 및 불러오기\n",
    "- 바이너리로 저장 -> text로 못봄\n",
    "- 텍스트로 저장 -> text로 볼 수 있음\n",
    "- ## 바이너리 파일로 저장/불러오기\n",
    "    - ### np.save(\"파일경로\", 배열)\n",
    "        - 하나의 파일에 무조건 `배열 하나만 저장` 가능\n",
    "        - 배열을 raw 바이너리 형식으로 저장한다. (압축하지 않은)\n",
    "        - 파일명에 확장자로 npy를 붙인다. (무조건 붙인다. abc.xxx 해도 abc.xxx.npy 로 저장)\n",
    "    - ### np.load(\"파일경로\") \n",
    "        - 파일에 저장된 배열을 불러온다.\n",
    "    - ### np.savez(\"파일경로\", 이름=배열, 이름=배열, ...)\n",
    "        - 하나의 파일에 `여러개의 배열을 저장`할 때 사용\n",
    "        - 파일명에 확장자로 npz가 붙는다.\n",
    "        - 내부적으로 압축해서 저장한다.\n",
    "        - load() 함수로 불러오면 저장된 배열목록이 반환 된다. 저장시 지정한 이름을 이용해 조회 \n",
    "- ## 텍스트 파일로 저장하고 불러오기\n",
    "    - ### savetxt(\"파일경로\", 배열 [, delimiter='공백') \n",
    "        - 텍스트 형태로 저장.\n",
    "        - 각 원소는 공백을 기준으로 나뉘며 delimiter 속성으로 구분자를 지정할 수 있다. (delimiter생략시 공백)\n",
    "        - 1차원과 2차원 배열만 저장 가능하다. (3차원 이상은 저장이 안된다.)\n",
    "    - ### loadtxt(\"파일경로\" [,dtype=float, delimiter=공백)"
   ],
   "metadata": {}
  },
  {
   "cell_type": "code",
   "execution_count": 1,
   "source": [
    "import numpy as np"
   ],
   "outputs": [],
   "metadata": {}
  },
  {
   "cell_type": "code",
   "execution_count": 5,
   "source": [
    "a = np.array([1, 10, 5, 20])\r\n",
    "b = np.ones((3, 3, 5))\r\n",
    "# 평균:10, 표준편차:2\r\n",
    "c = np.random.normal(10, 2, size=(5, 10))\r\n",
    "\r\n",
    "a.shape, b.shape, c.shape"
   ],
   "outputs": [
    {
     "output_type": "execute_result",
     "data": {
      "text/plain": [
       "((4,), (3, 3, 5), (5, 10))"
      ]
     },
     "metadata": {},
     "execution_count": 5
    }
   ],
   "metadata": {}
  },
  {
   "cell_type": "code",
   "execution_count": 13,
   "source": [
    "a, b, c"
   ],
   "outputs": [
    {
     "output_type": "execute_result",
     "data": {
      "text/plain": [
       "(array([ 1, 10,  5, 20]),\n",
       " array([[[1., 1., 1., 1., 1.],\n",
       "         [1., 1., 1., 1., 1.],\n",
       "         [1., 1., 1., 1., 1.]],\n",
       " \n",
       "        [[1., 1., 1., 1., 1.],\n",
       "         [1., 1., 1., 1., 1.],\n",
       "         [1., 1., 1., 1., 1.]],\n",
       " \n",
       "        [[1., 1., 1., 1., 1.],\n",
       "         [1., 1., 1., 1., 1.],\n",
       "         [1., 1., 1., 1., 1.]]]),\n",
       " array([[11.24434325,  7.97383961,  8.25901366, 12.45569231, 13.56820154,\n",
       "          9.02540971, 10.99933369, 11.09507828,  8.77573047, 11.45561982],\n",
       "        [13.41727621, 11.1259044 ,  7.48908994,  7.79494977,  9.76887359,\n",
       "          7.34724858,  8.59552338,  9.78145799, 10.15581934,  5.46403099],\n",
       "        [ 9.57784474, 13.40481044, 12.15182209, 10.3111626 , 10.82668426,\n",
       "         12.39639977,  9.27983239, 13.29165011, 12.21588419,  6.92188487],\n",
       "        [10.93794014, 11.19596425, 10.81133312, 12.67292336, 10.90641519,\n",
       "          9.39027547, 11.39618851, 12.53987289,  8.36823515,  8.18240559],\n",
       "        [10.12238121, 11.80813568,  9.20602114,  9.31061088,  9.90235089,\n",
       "         10.07158732,  7.27967814,  8.45781085,  9.4492632 , 10.81606861]]))"
      ]
     },
     "metadata": {},
     "execution_count": 13
    }
   ],
   "metadata": {}
  },
  {
   "cell_type": "code",
   "execution_count": 6,
   "source": [
    "# binary 파일에 배열을 저장\r\n",
    "# 한 파일에 배열 하나 - save(경로+파일명, 배열)\r\n",
    "# 경로 : 상대경로(현재 directory 기준 경로) \r\n",
    "#     or 절대경로(root dir부터 전체 경로) - c:\\a\\b\\abc\r\n",
    "\r\n",
    "# 파일의 확장자를 생략해도 npy로 자동 생성된다.\r\n",
    "np.save(\"data/array_a\", a)\r\n",
    "np.save(\"data/array_b.npy\", b)\r\n",
    "# .npy(확장자)로 끝나지 않으면 다 파일명이 된다.\r\n",
    "# 확장자처럼 생겼지만 array.c.npy로 파일이 생성된다.\r\n",
    "np.save(\"data/array.c\", c)"
   ],
   "outputs": [],
   "metadata": {}
  },
  {
   "cell_type": "code",
   "execution_count": 9,
   "source": [
    "# 불러오기(load) - load()\n",
    "# 불러올 때는 확장자를 붙여야 한다.\n",
    "a2 = np.load('data/array_a.npy')\n",
    "b2 = np.load('data/array_b.npy')\n",
    "c2 = np.load('data/array.c.npy')\n",
    "\n",
    "a2.shape, b2.shape, c2.shape"
   ],
   "outputs": [
    {
     "output_type": "execute_result",
     "data": {
      "text/plain": [
       "((4,), (3, 3, 5), (5, 10))"
      ]
     },
     "metadata": {},
     "execution_count": 9
    }
   ],
   "metadata": {}
  },
  {
   "cell_type": "code",
   "execution_count": 12,
   "source": [
    "a2, b2, c2"
   ],
   "outputs": [
    {
     "output_type": "execute_result",
     "data": {
      "text/plain": [
       "(array([ 1, 10,  5, 20]),\n",
       " array([[[1., 1., 1., 1., 1.],\n",
       "         [1., 1., 1., 1., 1.],\n",
       "         [1., 1., 1., 1., 1.]],\n",
       " \n",
       "        [[1., 1., 1., 1., 1.],\n",
       "         [1., 1., 1., 1., 1.],\n",
       "         [1., 1., 1., 1., 1.]],\n",
       " \n",
       "        [[1., 1., 1., 1., 1.],\n",
       "         [1., 1., 1., 1., 1.],\n",
       "         [1., 1., 1., 1., 1.]]]),\n",
       " array([[11.24434325,  7.97383961,  8.25901366, 12.45569231, 13.56820154,\n",
       "          9.02540971, 10.99933369, 11.09507828,  8.77573047, 11.45561982],\n",
       "        [13.41727621, 11.1259044 ,  7.48908994,  7.79494977,  9.76887359,\n",
       "          7.34724858,  8.59552338,  9.78145799, 10.15581934,  5.46403099],\n",
       "        [ 9.57784474, 13.40481044, 12.15182209, 10.3111626 , 10.82668426,\n",
       "         12.39639977,  9.27983239, 13.29165011, 12.21588419,  6.92188487],\n",
       "        [10.93794014, 11.19596425, 10.81133312, 12.67292336, 10.90641519,\n",
       "          9.39027547, 11.39618851, 12.53987289,  8.36823515,  8.18240559],\n",
       "        [10.12238121, 11.80813568,  9.20602114,  9.31061088,  9.90235089,\n",
       "         10.07158732,  7.27967814,  8.45781085,  9.4492632 , 10.81606861]]))"
      ]
     },
     "metadata": {},
     "execution_count": 12
    }
   ],
   "metadata": {}
  },
  {
   "cell_type": "code",
   "execution_count": 15,
   "source": [
    "c.dtype, c2.dtype"
   ],
   "outputs": [
    {
     "output_type": "execute_result",
     "data": {
      "text/plain": [
       "(dtype('float64'), dtype('float64'))"
      ]
     },
     "metadata": {},
     "execution_count": 15
    }
   ],
   "metadata": {}
  },
  {
   "cell_type": "code",
   "execution_count": 17,
   "source": [
    "# 한 파일에 여러 배열 저장 - savez(경로, 이름=배열, 이름=배열, ...)\n",
    "# 확장자가 npz로 생성된다.\n",
    "# npy : 하나의 배열이 저장된 파일, npz : 여러 배열이 저장된 파일\n",
    "np.savez('data/array', a=a, b=b, c=c)"
   ],
   "outputs": [],
   "metadata": {}
  },
  {
   "cell_type": "code",
   "execution_count": 21,
   "source": [
    "arrays = np.load('data/array.npz')\n",
    "arrays, arrays.files"
   ],
   "outputs": [
    {
     "output_type": "execute_result",
     "data": {
      "text/plain": [
       "(<numpy.lib.npyio.NpzFile at 0x1e74747d0a0>, ['a', 'b', 'c'])"
      ]
     },
     "metadata": {},
     "execution_count": 21
    }
   ],
   "metadata": {}
  },
  {
   "cell_type": "code",
   "execution_count": 23,
   "source": [
    "# 각 배열을 조회 - index 연산자 사용\n",
    "a3 = arrays['a']\n",
    "b3 = arrays['b']\n",
    "c3 = arrays['c']\n",
    "\n",
    "a3.shape, b3.shape, c3.shape"
   ],
   "outputs": [
    {
     "output_type": "execute_result",
     "data": {
      "text/plain": [
       "((4,), (3, 3, 5), (5, 10))"
      ]
     },
     "metadata": {},
     "execution_count": 23
    }
   ],
   "metadata": {}
  },
  {
   "cell_type": "code",
   "execution_count": 24,
   "source": [
    "# text파일로 저장 => csv로 저장\n",
    "# 1차원, 2차원 배열만 저장 가능\n",
    "# savetxt(), loadtxt()\n",
    "np.savetxt('data/a.csv', a)"
   ],
   "outputs": [],
   "metadata": {}
  },
  {
   "cell_type": "code",
   "execution_count": 26,
   "source": [
    "a4 = np.loadtxt('data/a.csv', dtype=np.int)\n",
    "a4"
   ],
   "outputs": [
    {
     "output_type": "execute_result",
     "data": {
      "text/plain": [
       "array([ 1, 10,  5, 20])"
      ]
     },
     "metadata": {},
     "execution_count": 26
    }
   ],
   "metadata": {}
  },
  {
   "cell_type": "code",
   "execution_count": 30,
   "source": [
    "print(b.shape)\n",
    "# 3차원이라서 에러가 난다.\n",
    "np.savetxt('data/b.csv', b)"
   ],
   "outputs": [
    {
     "output_type": "stream",
     "name": "stdout",
     "text": [
      "(3, 3, 5)\n"
     ]
    },
    {
     "output_type": "error",
     "ename": "ValueError",
     "evalue": "Expected 1D or 2D array, got 3D array instead",
     "traceback": [
      "\u001b[1;31m---------------------------------------------------------------------------\u001b[0m",
      "\u001b[1;31mValueError\u001b[0m                                Traceback (most recent call last)",
      "\u001b[1;32m<ipython-input-30-55a9707dfeeb>\u001b[0m in \u001b[0;36m<module>\u001b[1;34m\u001b[0m\n\u001b[0;32m      1\u001b[0m \u001b[0mprint\u001b[0m\u001b[1;33m(\u001b[0m\u001b[0mb\u001b[0m\u001b[1;33m.\u001b[0m\u001b[0mshape\u001b[0m\u001b[1;33m)\u001b[0m\u001b[1;33m\u001b[0m\u001b[1;33m\u001b[0m\u001b[0m\n\u001b[0;32m      2\u001b[0m \u001b[1;31m# 3차원이라서 에러가 난다.\u001b[0m\u001b[1;33m\u001b[0m\u001b[1;33m\u001b[0m\u001b[1;33m\u001b[0m\u001b[0m\n\u001b[1;32m----> 3\u001b[1;33m \u001b[0mnp\u001b[0m\u001b[1;33m.\u001b[0m\u001b[0msavetxt\u001b[0m\u001b[1;33m(\u001b[0m\u001b[1;34m'data/b.csv'\u001b[0m\u001b[1;33m,\u001b[0m \u001b[0mb\u001b[0m\u001b[1;33m)\u001b[0m\u001b[1;33m\u001b[0m\u001b[1;33m\u001b[0m\u001b[0m\n\u001b[0m",
      "\u001b[1;32m<__array_function__ internals>\u001b[0m in \u001b[0;36msavetxt\u001b[1;34m(*args, **kwargs)\u001b[0m\n",
      "\u001b[1;32m~\\anaconda3\\lib\\site-packages\\numpy\\lib\\npyio.py\u001b[0m in \u001b[0;36msavetxt\u001b[1;34m(fname, X, fmt, delimiter, newline, header, footer, comments, encoding)\u001b[0m\n\u001b[0;32m   1369\u001b[0m         \u001b[1;31m# Handle 1-dimensional arrays\u001b[0m\u001b[1;33m\u001b[0m\u001b[1;33m\u001b[0m\u001b[1;33m\u001b[0m\u001b[0m\n\u001b[0;32m   1370\u001b[0m         \u001b[1;32mif\u001b[0m \u001b[0mX\u001b[0m\u001b[1;33m.\u001b[0m\u001b[0mndim\u001b[0m \u001b[1;33m==\u001b[0m \u001b[1;36m0\u001b[0m \u001b[1;32mor\u001b[0m \u001b[0mX\u001b[0m\u001b[1;33m.\u001b[0m\u001b[0mndim\u001b[0m \u001b[1;33m>\u001b[0m \u001b[1;36m2\u001b[0m\u001b[1;33m:\u001b[0m\u001b[1;33m\u001b[0m\u001b[1;33m\u001b[0m\u001b[0m\n\u001b[1;32m-> 1371\u001b[1;33m             raise ValueError(\n\u001b[0m\u001b[0;32m   1372\u001b[0m                 \"Expected 1D or 2D array, got %dD array instead\" % X.ndim)\n\u001b[0;32m   1373\u001b[0m         \u001b[1;32melif\u001b[0m \u001b[0mX\u001b[0m\u001b[1;33m.\u001b[0m\u001b[0mndim\u001b[0m \u001b[1;33m==\u001b[0m \u001b[1;36m1\u001b[0m\u001b[1;33m:\u001b[0m\u001b[1;33m\u001b[0m\u001b[1;33m\u001b[0m\u001b[0m\n",
      "\u001b[1;31mValueError\u001b[0m: Expected 1D or 2D array, got 3D array instead"
     ]
    }
   ],
   "metadata": {}
  },
  {
   "cell_type": "code",
   "execution_count": 32,
   "source": [
    "# 저장시 delimiter가 없다면\n",
    "np.savetxt('data/c.csv', c)\n",
    "c4 = np.loadtxt('data/c.csv')\n",
    "c4"
   ],
   "outputs": [
    {
     "output_type": "execute_result",
     "data": {
      "text/plain": [
       "array([[11.24434325,  7.97383961,  8.25901366, 12.45569231, 13.56820154,\n",
       "         9.02540971, 10.99933369, 11.09507828,  8.77573047, 11.45561982],\n",
       "       [13.41727621, 11.1259044 ,  7.48908994,  7.79494977,  9.76887359,\n",
       "         7.34724858,  8.59552338,  9.78145799, 10.15581934,  5.46403099],\n",
       "       [ 9.57784474, 13.40481044, 12.15182209, 10.3111626 , 10.82668426,\n",
       "        12.39639977,  9.27983239, 13.29165011, 12.21588419,  6.92188487],\n",
       "       [10.93794014, 11.19596425, 10.81133312, 12.67292336, 10.90641519,\n",
       "         9.39027547, 11.39618851, 12.53987289,  8.36823515,  8.18240559],\n",
       "       [10.12238121, 11.80813568,  9.20602114,  9.31061088,  9.90235089,\n",
       "        10.07158732,  7.27967814,  8.45781085,  9.4492632 , 10.81606861]])"
      ]
     },
     "metadata": {},
     "execution_count": 32
    }
   ],
   "metadata": {}
  },
  {
   "cell_type": "code",
   "execution_count": 34,
   "source": [
    "# 저장시 delimiter가 있다면 load시에도 delimiter를 설정해야 에러가 안난다.\n",
    "np.savetxt('data/c.csv', c, delimiter=',')\n",
    "c4 = np.loadtxt('data/c.csv', delimiter=',')\n",
    "c4"
   ],
   "outputs": [
    {
     "output_type": "execute_result",
     "data": {
      "text/plain": [
       "array([[11.24434325,  7.97383961,  8.25901366, 12.45569231, 13.56820154,\n",
       "         9.02540971, 10.99933369, 11.09507828,  8.77573047, 11.45561982],\n",
       "       [13.41727621, 11.1259044 ,  7.48908994,  7.79494977,  9.76887359,\n",
       "         7.34724858,  8.59552338,  9.78145799, 10.15581934,  5.46403099],\n",
       "       [ 9.57784474, 13.40481044, 12.15182209, 10.3111626 , 10.82668426,\n",
       "        12.39639977,  9.27983239, 13.29165011, 12.21588419,  6.92188487],\n",
       "       [10.93794014, 11.19596425, 10.81133312, 12.67292336, 10.90641519,\n",
       "         9.39027547, 11.39618851, 12.53987289,  8.36823515,  8.18240559],\n",
       "       [10.12238121, 11.80813568,  9.20602114,  9.31061088,  9.90235089,\n",
       "        10.07158732,  7.27967814,  8.45781085,  9.4492632 , 10.81606861]])"
      ]
     },
     "metadata": {},
     "execution_count": 34
    }
   ],
   "metadata": {}
  },
  {
   "cell_type": "code",
   "execution_count": null,
   "source": [],
   "outputs": [],
   "metadata": {}
  }
 ],
 "metadata": {
  "kernelspec": {
   "display_name": "Python 3",
   "language": "python",
   "name": "python3"
  },
  "language_info": {
   "codemirror_mode": {
    "name": "ipython",
    "version": 3
   },
   "file_extension": ".py",
   "mimetype": "text/x-python",
   "name": "python",
   "nbconvert_exporter": "python",
   "pygments_lexer": "ipython3",
   "version": "3.8.5"
  },
  "toc": {
   "base_numbering": 1,
   "nav_menu": {},
   "number_sections": true,
   "sideBar": true,
   "skip_h1_title": false,
   "title_cell": "Table of Contents",
   "title_sidebar": "Contents",
   "toc_cell": false,
   "toc_position": {},
   "toc_section_display": true,
   "toc_window_display": false
  },
  "varInspector": {
   "cols": {
    "lenName": 16,
    "lenType": 16,
    "lenVar": 40
   },
   "kernels_config": {
    "python": {
     "delete_cmd_postfix": "",
     "delete_cmd_prefix": "del ",
     "library": "var_list.py",
     "varRefreshCmd": "print(var_dic_list())"
    },
    "r": {
     "delete_cmd_postfix": ") ",
     "delete_cmd_prefix": "rm(",
     "library": "var_list.r",
     "varRefreshCmd": "cat(var_dic_list()) "
    }
   },
   "types_to_exclude": [
    "module",
    "function",
    "builtin_function_or_method",
    "instance",
    "_Feature"
   ],
   "window_display": false
  }
 },
 "nbformat": 4,
 "nbformat_minor": 2
}