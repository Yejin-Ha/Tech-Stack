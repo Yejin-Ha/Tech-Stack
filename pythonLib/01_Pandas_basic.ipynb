{
 "cells": [
  {
   "cell_type": "markdown",
   "metadata": {},
   "source": [
    "# Pandas 학습\n",
    "1. 데이터 분석을 위한 모듈\n",
    "2. excel과 가장 큰 차이점 = Pandas는 대용량 데이터 처리가 가능하다\n",
    "3. 데이터 분석 및 데이터 가공에 절대적으로 사용되는 library\n",
    "4. 주요 학습 내용\n",
    "    - DataFrame - excel의 다수의 컬럼들을 보유한 table과 동일하다 간주함\n",
    "    - Series - DataFrame을 구성하는 column "
   ]
  },
  {
   "cell_type": "markdown",
   "metadata": {},
   "source": [
    "**참고**\n",
    "주피터 노트북 익스텐션을 활용하여 생산성 높이기\n",
    "> !pip install jupyter_contrib_nbextensions && jupyter contrib nbextension install\n",
    "\n",
    "상단의 명령어를 통해 설치하면 왼쪽처럼 목차가 뜬다.<br>\n",
    "설치 후 table of contents, autopep8를 체크하면 된다.<br>\n",
    "위에 망치모양이 코드의 형태를 이쁘게 맞춰주는 아이다.<br>\n",
    "vsc에서 shith alt F와 같은 역할 <br>\n",
    "- `!`이건 prompt 창에서 다음 명령어를 실행하는 것과 같은 기능을 한다."
   ]
  },
  {
   "cell_type": "markdown",
   "metadata": {},
   "source": [
    "## 기초 익히기\n",
    "- 이미 존재하는 파일의 내용으로 DataFrame 생성하기\n",
    "> 중복 데이터 제거, 결측시 처리"
   ]
  },
  {
   "cell_type": "markdown",
   "metadata": {},
   "source": [
    "### DataFrame  & Series 구조 \n",
    "> https://pandas.pydata.org/docs/getting_started/index.html <br>\n",
    "    \n",
    "    \n",
    "- pandas 설치\n",
    "> !pip show pandas"
   ]
  },
  {
   "cell_type": "code",
   "execution_count": 3,
   "metadata": {},
   "outputs": [],
   "source": [
    "# 전처리를 위한 library import\n",
    "# as 키워드는 library 별칭 부여 : pd 관습적으로 사용\n",
    "import pandas as pd\n",
    "import numpy as np"
   ]
  },
  {
   "cell_type": "code",
   "execution_count": 47,
   "metadata": {},
   "outputs": [
    {
     "name": "stdout",
     "output_type": "stream",
     "text": [
      "0    1\n",
      "1    2\n",
      "2    3\n",
      "dtype: int64\n",
      "----------------------------------------\n",
      "<class 'pandas.core.series.Series'>\n",
      "----------------------------------------\n",
      "[1 2 3]\n"
     ]
    }
   ],
   "source": [
    "s = pd.Series([1, 2, 3])\n",
    "print(s)\n",
    "print('--'*20)\n",
    "print(type(s))\n",
    "print('--'*20)\n",
    "# 보유한 데이터\n",
    "print(s.values)"
   ]
  },
  {
   "cell_type": "code",
   "execution_count": 12,
   "metadata": {},
   "outputs": [
    {
     "data": {
      "text/plain": [
       "RangeIndex(start=0, stop=3, step=1)"
      ]
     },
     "execution_count": 12,
     "metadata": {},
     "output_type": "execute_result"
    }
   ],
   "source": [
    "# 마지막 index = stop - 1\n",
    "s.index"
   ]
  },
  {
   "cell_type": "markdown",
   "metadata": {},
   "source": [
    "**결측치 : 데이터 없음을 의미함**\n",
    "- NaN(not a number) : js에서 숫자가 아님을 의미하는 표현법\n",
    "- python에선 결측치를 의미함\n",
    "- 명시적으로 Series에 결측치 적용\n",
    "- numpy API에 결측치 표현\n",
    "- 데이터를 관리하기 위해서 간혹 결측치를 임의로 생성해야 할 경우가 있다."
   ]
  },
  {
   "cell_type": "code",
   "execution_count": 14,
   "metadata": {},
   "outputs": [
    {
     "name": "stdout",
     "output_type": "stream",
     "text": [
      "0    1.0\n",
      "1    NaN\n",
      "2    3.0\n",
      "dtype: float64\n",
      "----------------------------------------\n",
      "2\n"
     ]
    }
   ],
   "source": [
    "# 결측치 생성\n",
    "s = pd.Series([1, np.nan, 3])\n",
    "print(s)\n",
    "print('--'*20)\n",
    "\n",
    "# count : 결측치를 제외한 유효한 데이터의 개수를 counting 한다.\n",
    "print(s.count())"
   ]
  },
  {
   "cell_type": "markdown",
   "metadata": {},
   "source": [
    "**결측치를 치환하는 명령어 : fillna()**"
   ]
  },
  {
   "cell_type": "code",
   "execution_count": 17,
   "metadata": {},
   "outputs": [
    {
     "data": {
      "text/plain": [
       "0    1.0\n",
       "1    0.0\n",
       "2    3.0\n",
       "dtype: float64"
      ]
     },
     "execution_count": 17,
     "metadata": {},
     "output_type": "execute_result"
    }
   ],
   "source": [
    "s = s.fillna(0)\n",
    "s"
   ]
  },
  {
   "cell_type": "markdown",
   "metadata": {},
   "source": [
    "**결측치를 삭제하는 명령어 : dropna()**"
   ]
  },
  {
   "cell_type": "code",
   "execution_count": 22,
   "metadata": {},
   "outputs": [
    {
     "name": "stdout",
     "output_type": "stream",
     "text": [
      "0    1.0\n",
      "1    NaN\n",
      "2    3.0\n",
      "3    4.0\n",
      "4    NaN\n",
      "5    6.0\n",
      "dtype: float64\n",
      "----------------------------------------\n",
      "0    1.0\n",
      "2    3.0\n",
      "3    4.0\n",
      "5    6.0\n",
      "dtype: float64\n"
     ]
    }
   ],
   "source": [
    "# 결측치 삭제 : dropna()\n",
    "s = pd.Series([1, np.nan, 3, 4, np.nan, 6])\n",
    "print(s)\n",
    "print('--' * 20)\n",
    "\n",
    "s = s.dropna()\n",
    "print(s)"
   ]
  },
  {
   "cell_type": "code",
   "execution_count": 19,
   "metadata": {},
   "outputs": [
    {
     "data": {
      "text/html": [
       "<div>\n",
       "<style scoped>\n",
       "    .dataframe tbody tr th:only-of-type {\n",
       "        vertical-align: middle;\n",
       "    }\n",
       "\n",
       "    .dataframe tbody tr th {\n",
       "        vertical-align: top;\n",
       "    }\n",
       "\n",
       "    .dataframe thead th {\n",
       "        text-align: right;\n",
       "    }\n",
       "</style>\n",
       "<table border=\"1\" class=\"dataframe\">\n",
       "  <thead>\n",
       "    <tr style=\"text-align: right;\">\n",
       "      <th></th>\n",
       "      <th>Name</th>\n",
       "      <th>Age</th>\n",
       "      <th>Sex</th>\n",
       "    </tr>\n",
       "  </thead>\n",
       "  <tbody>\n",
       "    <tr>\n",
       "      <th>0</th>\n",
       "      <td>Braund, Mr. Owen Harris</td>\n",
       "      <td>22</td>\n",
       "      <td>male</td>\n",
       "    </tr>\n",
       "    <tr>\n",
       "      <th>1</th>\n",
       "      <td>Allen, Mr. William Henry</td>\n",
       "      <td>35</td>\n",
       "      <td>male</td>\n",
       "    </tr>\n",
       "    <tr>\n",
       "      <th>2</th>\n",
       "      <td>Bonnell, Miss. Elizabeth</td>\n",
       "      <td>58</td>\n",
       "      <td>female</td>\n",
       "    </tr>\n",
       "  </tbody>\n",
       "</table>\n",
       "</div>"
      ],
      "text/plain": [
       "                       Name  Age     Sex\n",
       "0   Braund, Mr. Owen Harris   22    male\n",
       "1  Allen, Mr. William Henry   35    male\n",
       "2  Bonnell, Miss. Elizabeth   58  female"
      ]
     },
     "execution_count": 19,
     "metadata": {},
     "output_type": "execute_result"
    }
   ],
   "source": [
    "df = pd.DataFrame(\n",
    "    {\n",
    "        \"Name\": [\n",
    "            \"Braund, Mr. Owen Harris\",\n",
    "            \"Allen, Mr. William Henry\",\n",
    "            \"Bonnell, Miss. Elizabeth\",\n",
    "        ],\n",
    "        \"Age\": [22, 35, 58],\n",
    "        \"Sex\": [\"male\", \"male\", \"female\"],\n",
    "    }\n",
    ")\n",
    "df"
   ]
  },
  {
   "cell_type": "markdown",
   "metadata": {},
   "source": [
    "### 날짜와 문자열 데이터 다루기 \n",
    "\n",
    "- Python의 datetime모듈\n",
    "\n",
    ">date : 연, 월, 일\n",
    "\n",
    ">time : 시간, 분, 초, 마이크로초(백만분의 1초)\n",
    "\n",
    ">datetime : date와 time요소\n",
    "\n",
    "- Pandas의 Timestamp\n",
    "\n",
    ">날짜와 시간 모두 포함 : 나노초(10억분의 1초) 단위의 정밀도\n",
    "\n",
    "\n",
    "- timedelta\n",
    "\n",
    ">날짜의 덧셈과 뺄셈에 유용\n",
    "\n"
   ]
  },
  {
   "cell_type": "code",
   "execution_count": 23,
   "metadata": {},
   "outputs": [
    {
     "data": {
      "text/plain": [
       "DatetimeIndex(['2021-06-28', '2021-06-29', '2021-06-30', '2021-07-01',\n",
       "               '2021-07-02', '2021-07-03'],\n",
       "              dtype='datetime64[ns]', freq='D')"
      ]
     },
     "execution_count": 23,
     "metadata": {},
     "output_type": "execute_result"
    }
   ],
   "source": [
    "# 6일치의 날짜 데이터 생성\n",
    "# data_range(시작일, 범위) : 시작일로 부터 해당 범위 날짜까지 자동 생성 \n",
    "datas = pd.date_range('20210628', periods=6)\n",
    "datas"
   ]
  },
  {
   "cell_type": "code",
   "execution_count": 24,
   "metadata": {},
   "outputs": [
    {
     "data": {
      "text/plain": [
       "pandas.core.indexes.datetimes.DatetimeIndex"
      ]
     },
     "execution_count": 24,
     "metadata": {},
     "output_type": "execute_result"
    }
   ],
   "source": [
    "type(datas)"
   ]
  },
  {
   "cell_type": "markdown",
   "metadata": {},
   "source": [
    "### np.random 난수 생성"
   ]
  },
  {
   "cell_type": "code",
   "execution_count": 26,
   "metadata": {},
   "outputs": [
    {
     "data": {
      "text/plain": [
       "array([[ 0.2258882 , -0.05629748, -0.40272748],\n",
       "       [-3.5496841 , -0.5298403 , -1.32241566]])"
      ]
     },
     "execution_count": 26,
     "metadata": {},
     "output_type": "execute_result"
    }
   ],
   "source": [
    "np.random.randn(2, 3)"
   ]
  },
  {
   "cell_type": "code",
   "execution_count": 41,
   "metadata": {},
   "outputs": [
    {
     "name": "stdout",
     "output_type": "stream",
     "text": [
      "6\n",
      "2\n"
     ]
    }
   ],
   "source": [
    "print(np.random.randint(8))\n",
    "# 범위가 2 ~ 2 이므로 계속 2만 나온다.\n",
    "print(np.random.randint(2, 3))"
   ]
  },
  {
   "cell_type": "code",
   "execution_count": 44,
   "metadata": {},
   "outputs": [
    {
     "data": {
      "text/html": [
       "<div>\n",
       "<style scoped>\n",
       "    .dataframe tbody tr th:only-of-type {\n",
       "        vertical-align: middle;\n",
       "    }\n",
       "\n",
       "    .dataframe tbody tr th {\n",
       "        vertical-align: top;\n",
       "    }\n",
       "\n",
       "    .dataframe thead th {\n",
       "        text-align: right;\n",
       "    }\n",
       "</style>\n",
       "<table border=\"1\" class=\"dataframe\">\n",
       "  <thead>\n",
       "    <tr style=\"text-align: right;\">\n",
       "      <th></th>\n",
       "      <th>0</th>\n",
       "      <th>1</th>\n",
       "      <th>2</th>\n",
       "      <th>3</th>\n",
       "    </tr>\n",
       "  </thead>\n",
       "  <tbody>\n",
       "    <tr>\n",
       "      <th>2021-06-28</th>\n",
       "      <td>0.316507</td>\n",
       "      <td>-0.527410</td>\n",
       "      <td>-0.605017</td>\n",
       "      <td>1.261473</td>\n",
       "    </tr>\n",
       "    <tr>\n",
       "      <th>2021-06-29</th>\n",
       "      <td>0.069595</td>\n",
       "      <td>-0.021090</td>\n",
       "      <td>-2.242459</td>\n",
       "      <td>-0.376150</td>\n",
       "    </tr>\n",
       "    <tr>\n",
       "      <th>2021-06-30</th>\n",
       "      <td>0.621617</td>\n",
       "      <td>0.204090</td>\n",
       "      <td>0.082174</td>\n",
       "      <td>0.857012</td>\n",
       "    </tr>\n",
       "    <tr>\n",
       "      <th>2021-07-01</th>\n",
       "      <td>-0.943596</td>\n",
       "      <td>-1.881376</td>\n",
       "      <td>-0.378098</td>\n",
       "      <td>0.602923</td>\n",
       "    </tr>\n",
       "    <tr>\n",
       "      <th>2021-07-02</th>\n",
       "      <td>0.541145</td>\n",
       "      <td>-0.284489</td>\n",
       "      <td>0.832258</td>\n",
       "      <td>0.566265</td>\n",
       "    </tr>\n",
       "    <tr>\n",
       "      <th>2021-07-03</th>\n",
       "      <td>1.165258</td>\n",
       "      <td>-0.198895</td>\n",
       "      <td>-0.440869</td>\n",
       "      <td>1.318195</td>\n",
       "    </tr>\n",
       "  </tbody>\n",
       "</table>\n",
       "</div>"
      ],
      "text/plain": [
       "                   0         1         2         3\n",
       "2021-06-28  0.316507 -0.527410 -0.605017  1.261473\n",
       "2021-06-29  0.069595 -0.021090 -2.242459 -0.376150\n",
       "2021-06-30  0.621617  0.204090  0.082174  0.857012\n",
       "2021-07-01 -0.943596 -1.881376 -0.378098  0.602923\n",
       "2021-07-02  0.541145 -0.284489  0.832258  0.566265\n",
       "2021-07-03  1.165258 -0.198895 -0.440869  1.318195"
      ]
     },
     "execution_count": 44,
     "metadata": {},
     "output_type": "execute_result"
    }
   ],
   "source": [
    "# 6행 4열의 구조로 날짜를 보유한 datas 변수값을 index로 구성하는 DataFrame 객체 \n",
    "# pandas로 데이터 처리시에는 numpy 모듈을 필수\n",
    "df = pd.DataFrame(np.random.randn(6, 4), index=datas)\n",
    "df"
   ]
  },
  {
   "cell_type": "code",
   "execution_count": 45,
   "metadata": {},
   "outputs": [
    {
     "data": {
      "text/html": [
       "<div>\n",
       "<style scoped>\n",
       "    .dataframe tbody tr th:only-of-type {\n",
       "        vertical-align: middle;\n",
       "    }\n",
       "\n",
       "    .dataframe tbody tr th {\n",
       "        vertical-align: top;\n",
       "    }\n",
       "\n",
       "    .dataframe thead th {\n",
       "        text-align: right;\n",
       "    }\n",
       "</style>\n",
       "<table border=\"1\" class=\"dataframe\">\n",
       "  <thead>\n",
       "    <tr style=\"text-align: right;\">\n",
       "      <th></th>\n",
       "      <th>a</th>\n",
       "      <th>b</th>\n",
       "      <th>c</th>\n",
       "      <th>d</th>\n",
       "    </tr>\n",
       "  </thead>\n",
       "  <tbody>\n",
       "    <tr>\n",
       "      <th>2021-06-28</th>\n",
       "      <td>1.747444</td>\n",
       "      <td>-0.708034</td>\n",
       "      <td>0.742717</td>\n",
       "      <td>-0.446046</td>\n",
       "    </tr>\n",
       "    <tr>\n",
       "      <th>2021-06-29</th>\n",
       "      <td>-1.541808</td>\n",
       "      <td>-0.947643</td>\n",
       "      <td>-0.215323</td>\n",
       "      <td>0.060244</td>\n",
       "    </tr>\n",
       "    <tr>\n",
       "      <th>2021-06-30</th>\n",
       "      <td>0.324549</td>\n",
       "      <td>0.275914</td>\n",
       "      <td>-0.322824</td>\n",
       "      <td>-3.017415</td>\n",
       "    </tr>\n",
       "    <tr>\n",
       "      <th>2021-07-01</th>\n",
       "      <td>0.054773</td>\n",
       "      <td>-0.391381</td>\n",
       "      <td>0.423115</td>\n",
       "      <td>0.337930</td>\n",
       "    </tr>\n",
       "    <tr>\n",
       "      <th>2021-07-02</th>\n",
       "      <td>0.836957</td>\n",
       "      <td>-0.544874</td>\n",
       "      <td>-0.192745</td>\n",
       "      <td>-1.030811</td>\n",
       "    </tr>\n",
       "    <tr>\n",
       "      <th>2021-07-03</th>\n",
       "      <td>-0.221231</td>\n",
       "      <td>0.497988</td>\n",
       "      <td>-0.223669</td>\n",
       "      <td>-0.351674</td>\n",
       "    </tr>\n",
       "  </tbody>\n",
       "</table>\n",
       "</div>"
      ],
      "text/plain": [
       "                   a         b         c         d\n",
       "2021-06-28  1.747444 -0.708034  0.742717 -0.446046\n",
       "2021-06-29 -1.541808 -0.947643 -0.215323  0.060244\n",
       "2021-06-30  0.324549  0.275914 -0.322824 -3.017415\n",
       "2021-07-01  0.054773 -0.391381  0.423115  0.337930\n",
       "2021-07-02  0.836957 -0.544874 -0.192745 -1.030811\n",
       "2021-07-03 -0.221231  0.497988 -0.223669 -0.351674"
      ]
     },
     "execution_count": 45,
     "metadata": {},
     "output_type": "execute_result"
    }
   ],
   "source": [
    "# 컬럼명 가공\n",
    "df.columns = ['a', 'b', 'c', 'd']   # 또는!\n",
    "df = pd.DataFrame(np.random.randn(6, 4), index=datas,\n",
    "                  columns=['a', 'b', 'c', 'd'])\n",
    "df"
   ]
  },
  {
   "cell_type": "markdown",
   "metadata": {},
   "source": [
    "## row, col의 특정 데이터 검색\n",
    "특정 컬럼들 값만 도출하기"
   ]
  },
  {
   "cell_type": "code",
   "execution_count": 49,
   "metadata": {},
   "outputs": [
    {
     "name": "stdout",
     "output_type": "stream",
     "text": [
      "2021-06-28    1.747444\n",
      "2021-06-29   -1.541808\n",
      "2021-06-30    0.324549\n",
      "2021-07-01    0.054773\n",
      "2021-07-02    0.836957\n",
      "2021-07-03   -0.221231\n",
      "Freq: D, Name: a, dtype: float64\n",
      "----------------------------------------\n",
      "2021-06-28    1.747444\n",
      "2021-06-29   -1.541808\n",
      "2021-06-30    0.324549\n",
      "2021-07-01    0.054773\n",
      "2021-07-02    0.836957\n",
      "2021-07-03   -0.221231\n",
      "Freq: D, Name: a, dtype: float64\n"
     ]
    }
   ],
   "source": [
    "# [] 연산자 활용\n",
    "print(df['a'])\n",
    "print('--' * 20)\n",
    "\n",
    "# dot 연산자 활용\n",
    "print(df.a)"
   ]
  },
  {
   "cell_type": "markdown",
   "metadata": {},
   "source": [
    "**특정 row들 도출하기**"
   ]
  },
  {
   "cell_type": "code",
   "execution_count": 50,
   "metadata": {},
   "outputs": [
    {
     "data": {
      "text/html": [
       "<div>\n",
       "<style scoped>\n",
       "    .dataframe tbody tr th:only-of-type {\n",
       "        vertical-align: middle;\n",
       "    }\n",
       "\n",
       "    .dataframe tbody tr th {\n",
       "        vertical-align: top;\n",
       "    }\n",
       "\n",
       "    .dataframe thead th {\n",
       "        text-align: right;\n",
       "    }\n",
       "</style>\n",
       "<table border=\"1\" class=\"dataframe\">\n",
       "  <thead>\n",
       "    <tr style=\"text-align: right;\">\n",
       "      <th></th>\n",
       "      <th>a</th>\n",
       "      <th>b</th>\n",
       "      <th>c</th>\n",
       "      <th>d</th>\n",
       "    </tr>\n",
       "  </thead>\n",
       "  <tbody>\n",
       "    <tr>\n",
       "      <th>2021-06-28</th>\n",
       "      <td>1.747444</td>\n",
       "      <td>-0.708034</td>\n",
       "      <td>0.742717</td>\n",
       "      <td>-0.446046</td>\n",
       "    </tr>\n",
       "    <tr>\n",
       "      <th>2021-06-29</th>\n",
       "      <td>-1.541808</td>\n",
       "      <td>-0.947643</td>\n",
       "      <td>-0.215323</td>\n",
       "      <td>0.060244</td>\n",
       "    </tr>\n",
       "    <tr>\n",
       "      <th>2021-06-30</th>\n",
       "      <td>0.324549</td>\n",
       "      <td>0.275914</td>\n",
       "      <td>-0.322824</td>\n",
       "      <td>-3.017415</td>\n",
       "    </tr>\n",
       "  </tbody>\n",
       "</table>\n",
       "</div>"
      ],
      "text/plain": [
       "                   a         b         c         d\n",
       "2021-06-28  1.747444 -0.708034  0.742717 -0.446046\n",
       "2021-06-29 -1.541808 -0.947643 -0.215323  0.060244\n",
       "2021-06-30  0.324549  0.275914 -0.322824 -3.017415"
      ]
     },
     "execution_count": 50,
     "metadata": {},
     "output_type": "execute_result"
    }
   ],
   "source": [
    "# df의 index가 0 ~ 2의 row들 출력\n",
    "df[0:3]"
   ]
  },
  {
   "cell_type": "code",
   "execution_count": 52,
   "metadata": {},
   "outputs": [
    {
     "data": {
      "text/plain": [
       "2021-06-28    1.747444\n",
       "2021-06-29   -1.541808\n",
       "2021-06-30    0.324549\n",
       "Freq: D, Name: a, dtype: float64"
      ]
     },
     "execution_count": 52,
     "metadata": {},
     "output_type": "execute_result"
    }
   ],
   "source": [
    "# df의 index가 0 ~ 2의 row들의 a col의 데이터 출력\n",
    "df[0:3]['a']"
   ]
  },
  {
   "cell_type": "markdown",
   "metadata": {},
   "source": [
    "# file로 부터 데이터 read해서 data 타입 이해하기\n",
    "- csv 파일의 내용을 read하면서 DataFrame객체로 생성\n",
    "- DataFrame 객체의 장점은 다양한 함수가 있기 때문에 조작 및 정제 가능\n",
    "- 가정사항 : csv 파일은 제공 받음, 단 raw는 보존, 정제 및 분석을 위해서는 최적인 상태로 가공 및 문제점 찾기"
   ]
  },
  {
   "cell_type": "code",
   "execution_count": 2,
   "metadata": {},
   "outputs": [
    {
     "data": {
      "text/html": [
       "<div>\n",
       "<style scoped>\n",
       "    .dataframe tbody tr th:only-of-type {\n",
       "        vertical-align: middle;\n",
       "    }\n",
       "\n",
       "    .dataframe tbody tr th {\n",
       "        vertical-align: top;\n",
       "    }\n",
       "\n",
       "    .dataframe thead th {\n",
       "        text-align: right;\n",
       "    }\n",
       "</style>\n",
       "<table border=\"1\" class=\"dataframe\">\n",
       "  <thead>\n",
       "    <tr style=\"text-align: right;\">\n",
       "      <th></th>\n",
       "      <th>Name</th>\n",
       "      <th>Birth</th>\n",
       "      <th>email</th>\n",
       "    </tr>\n",
       "  </thead>\n",
       "  <tbody>\n",
       "    <tr>\n",
       "      <th>0</th>\n",
       "      <td>이순신</td>\n",
       "      <td>2021-01-01 9:10</td>\n",
       "      <td>happy@gmail.com</td>\n",
       "    </tr>\n",
       "    <tr>\n",
       "      <th>1</th>\n",
       "      <td>홍길동</td>\n",
       "      <td>2021-01-08 9:20</td>\n",
       "      <td>1004@NAVER.COM</td>\n",
       "    </tr>\n",
       "    <tr>\n",
       "      <th>2</th>\n",
       "      <td>유관순</td>\n",
       "      <td>2021-02-01 10:20</td>\n",
       "      <td>Iron at yahoo.co.kr</td>\n",
       "    </tr>\n",
       "    <tr>\n",
       "      <th>3</th>\n",
       "      <td>이이</td>\n",
       "      <td>2021-02-02 11:40</td>\n",
       "      <td>\\tlee@gmail.com</td>\n",
       "    </tr>\n",
       "    <tr>\n",
       "      <th>4</th>\n",
       "      <td>김구</td>\n",
       "      <td>2021-02-28 15:10</td>\n",
       "      <td>kim@daum.net\\t</td>\n",
       "    </tr>\n",
       "    <tr>\n",
       "      <th>5</th>\n",
       "      <td>윤봉길</td>\n",
       "      <td>2021-04-10 19:20</td>\n",
       "      <td>yeon@daum.ac.kr</td>\n",
       "    </tr>\n",
       "    <tr>\n",
       "      <th>6</th>\n",
       "      <td>강감찬</td>\n",
       "      <td>2021-06-30 21:20</td>\n",
       "      <td>kkc@gmail.com</td>\n",
       "    </tr>\n",
       "    <tr>\n",
       "      <th>7</th>\n",
       "      <td>신사임당</td>\n",
       "      <td>2021-07-20 23:30</td>\n",
       "      <td>monther@NAVER.COM</td>\n",
       "    </tr>\n",
       "    <tr>\n",
       "      <th>8</th>\n",
       "      <td>을지문덕</td>\n",
       "      <td>2021-08-28 11:48</td>\n",
       "      <td>ygmd@daum.net</td>\n",
       "    </tr>\n",
       "    <tr>\n",
       "      <th>9</th>\n",
       "      <td>유재석</td>\n",
       "      <td>2021-09-01 3:12</td>\n",
       "      <td>yjs at gmail.com</td>\n",
       "    </tr>\n",
       "  </tbody>\n",
       "</table>\n",
       "</div>"
      ],
      "text/plain": [
       "   Name             Birth                  email\n",
       "0   이순신   2021-01-01 9:10       happy@gmail.com \n",
       "1   홍길동   2021-01-08 9:20         1004@NAVER.COM\n",
       "2   유관순  2021-02-01 10:20   Iron at yahoo.co.kr \n",
       "3    이이  2021-02-02 11:40        \\tlee@gmail.com\n",
       "4    김구  2021-02-28 15:10         kim@daum.net\\t\n",
       "5   윤봉길  2021-04-10 19:20        yeon@daum.ac.kr\n",
       "6   강감찬  2021-06-30 21:20          kkc@gmail.com\n",
       "7  신사임당  2021-07-20 23:30     monther@NAVER.COM \n",
       "8  을지문덕  2021-08-28 11:48          ygmd@daum.net\n",
       "9   유재석   2021-09-01 3:12       yjs at gmail.com"
      ]
     },
     "execution_count": 2,
     "metadata": {},
     "output_type": "execute_result"
    }
   ],
   "source": [
    "df = pd.read_csv('dataset/01.date_data.csv')\n",
    "df"
   ]
  },
  {
   "cell_type": "markdown",
   "metadata": {},
   "source": [
    "## asdf"
   ]
  },
  {
   "cell_type": "markdown",
   "metadata": {},
   "source": [
    "**문자열 타입을 object 타입으로 표현한다.**"
   ]
  },
  {
   "cell_type": "code",
   "execution_count": 3,
   "metadata": {},
   "outputs": [
    {
     "name": "stdout",
     "output_type": "stream",
     "text": [
      "<class 'pandas.core.frame.DataFrame'>\n",
      "RangeIndex: 10 entries, 0 to 9\n",
      "Data columns (total 3 columns):\n",
      " #   Column  Non-Null Count  Dtype \n",
      "---  ------  --------------  ----- \n",
      " 0   Name    10 non-null     object\n",
      " 1   Birth   10 non-null     object\n",
      " 2   email   10 non-null     object\n",
      "dtypes: object(3)\n",
      "memory usage: 368.0+ bytes\n"
     ]
    }
   ],
   "source": [
    "df.info()"
   ]
  },
  {
   "cell_type": "markdown",
   "metadata": {},
   "source": [
    "**object 즉 문자열 타입을 datetime 타입으로 변환하는 구조**"
   ]
  },
  {
   "cell_type": "code",
   "execution_count": 4,
   "metadata": {},
   "outputs": [
    {
     "data": {
      "text/html": [
       "<div>\n",
       "<style scoped>\n",
       "    .dataframe tbody tr th:only-of-type {\n",
       "        vertical-align: middle;\n",
       "    }\n",
       "\n",
       "    .dataframe tbody tr th {\n",
       "        vertical-align: top;\n",
       "    }\n",
       "\n",
       "    .dataframe thead th {\n",
       "        text-align: right;\n",
       "    }\n",
       "</style>\n",
       "<table border=\"1\" class=\"dataframe\">\n",
       "  <thead>\n",
       "    <tr style=\"text-align: right;\">\n",
       "      <th></th>\n",
       "      <th>Name</th>\n",
       "      <th>Birth</th>\n",
       "      <th>email</th>\n",
       "    </tr>\n",
       "  </thead>\n",
       "  <tbody>\n",
       "    <tr>\n",
       "      <th>0</th>\n",
       "      <td>이순신</td>\n",
       "      <td>2021-01-01 09:10:00</td>\n",
       "      <td>happy@gmail.com</td>\n",
       "    </tr>\n",
       "    <tr>\n",
       "      <th>1</th>\n",
       "      <td>홍길동</td>\n",
       "      <td>2021-01-08 09:20:00</td>\n",
       "      <td>1004@NAVER.COM</td>\n",
       "    </tr>\n",
       "    <tr>\n",
       "      <th>2</th>\n",
       "      <td>유관순</td>\n",
       "      <td>2021-02-01 10:20:00</td>\n",
       "      <td>Iron at yahoo.co.kr</td>\n",
       "    </tr>\n",
       "    <tr>\n",
       "      <th>3</th>\n",
       "      <td>이이</td>\n",
       "      <td>2021-02-02 11:40:00</td>\n",
       "      <td>\\tlee@gmail.com</td>\n",
       "    </tr>\n",
       "    <tr>\n",
       "      <th>4</th>\n",
       "      <td>김구</td>\n",
       "      <td>2021-02-28 15:10:00</td>\n",
       "      <td>kim@daum.net\\t</td>\n",
       "    </tr>\n",
       "    <tr>\n",
       "      <th>5</th>\n",
       "      <td>윤봉길</td>\n",
       "      <td>2021-04-10 19:20:00</td>\n",
       "      <td>yeon@daum.ac.kr</td>\n",
       "    </tr>\n",
       "    <tr>\n",
       "      <th>6</th>\n",
       "      <td>강감찬</td>\n",
       "      <td>2021-06-30 21:20:00</td>\n",
       "      <td>kkc@gmail.com</td>\n",
       "    </tr>\n",
       "    <tr>\n",
       "      <th>7</th>\n",
       "      <td>신사임당</td>\n",
       "      <td>2021-07-20 23:30:00</td>\n",
       "      <td>monther@NAVER.COM</td>\n",
       "    </tr>\n",
       "    <tr>\n",
       "      <th>8</th>\n",
       "      <td>을지문덕</td>\n",
       "      <td>2021-08-28 11:48:00</td>\n",
       "      <td>ygmd@daum.net</td>\n",
       "    </tr>\n",
       "    <tr>\n",
       "      <th>9</th>\n",
       "      <td>유재석</td>\n",
       "      <td>2021-09-01 03:12:00</td>\n",
       "      <td>yjs at gmail.com</td>\n",
       "    </tr>\n",
       "  </tbody>\n",
       "</table>\n",
       "</div>"
      ],
      "text/plain": [
       "   Name               Birth                  email\n",
       "0   이순신 2021-01-01 09:10:00       happy@gmail.com \n",
       "1   홍길동 2021-01-08 09:20:00         1004@NAVER.COM\n",
       "2   유관순 2021-02-01 10:20:00   Iron at yahoo.co.kr \n",
       "3    이이 2021-02-02 11:40:00        \\tlee@gmail.com\n",
       "4    김구 2021-02-28 15:10:00         kim@daum.net\\t\n",
       "5   윤봉길 2021-04-10 19:20:00        yeon@daum.ac.kr\n",
       "6   강감찬 2021-06-30 21:20:00          kkc@gmail.com\n",
       "7  신사임당 2021-07-20 23:30:00     monther@NAVER.COM \n",
       "8  을지문덕 2021-08-28 11:48:00          ygmd@daum.net\n",
       "9   유재석 2021-09-01 03:12:00       yjs at gmail.com"
      ]
     },
     "execution_count": 4,
     "metadata": {},
     "output_type": "execute_result"
    }
   ],
   "source": [
    "df['Birth'] = pd.to_datetime(df['Birth'], format='%Y-%m-%d %H:%M:%S')\n",
    "df"
   ]
  },
  {
   "cell_type": "code",
   "execution_count": 5,
   "metadata": {},
   "outputs": [
    {
     "name": "stdout",
     "output_type": "stream",
     "text": [
      "<class 'pandas.core.frame.DataFrame'>\n",
      "RangeIndex: 10 entries, 0 to 9\n",
      "Data columns (total 3 columns):\n",
      " #   Column  Non-Null Count  Dtype         \n",
      "---  ------  --------------  -----         \n",
      " 0   Name    10 non-null     object        \n",
      " 1   Birth   10 non-null     datetime64[ns]\n",
      " 2   email   10 non-null     object        \n",
      "dtypes: datetime64[ns](1), object(2)\n",
      "memory usage: 368.0+ bytes\n"
     ]
    }
   ],
   "source": [
    "# Birth의 dtype이 변한 것을 확인 가능\n",
    "df.info()"
   ]
  },
  {
   "cell_type": "markdown",
   "metadata": {},
   "source": [
    "## 인덱서(indexer)## 인덱서(indexer)\n",
    "\n",
    "### iloc\n",
    "- 데이터 프레임의 부분집합 선택을 위한 도구\n",
    "- iloc는 정수로만 선택\n",
    "- 여러 개의 정수 위치를 선택하려면 리스트 전달\n",
    "- 동일한 간격으로 선택하려면 슬라이스 표기\n",
    "- iloc[index] or iloc[index, column]"
   ]
  },
  {
   "cell_type": "code",
   "execution_count": 6,
   "metadata": {},
   "outputs": [
    {
     "data": {
      "text/html": [
       "<div>\n",
       "<style scoped>\n",
       "    .dataframe tbody tr th:only-of-type {\n",
       "        vertical-align: middle;\n",
       "    }\n",
       "\n",
       "    .dataframe tbody tr th {\n",
       "        vertical-align: top;\n",
       "    }\n",
       "\n",
       "    .dataframe thead th {\n",
       "        text-align: right;\n",
       "    }\n",
       "</style>\n",
       "<table border=\"1\" class=\"dataframe\">\n",
       "  <thead>\n",
       "    <tr style=\"text-align: right;\">\n",
       "      <th></th>\n",
       "      <th>Name</th>\n",
       "      <th>Birth</th>\n",
       "      <th>email</th>\n",
       "    </tr>\n",
       "  </thead>\n",
       "  <tbody>\n",
       "    <tr>\n",
       "      <th>0</th>\n",
       "      <td>이순신</td>\n",
       "      <td>2021-01-01 9:10</td>\n",
       "      <td>happy@gmail.com</td>\n",
       "    </tr>\n",
       "    <tr>\n",
       "      <th>1</th>\n",
       "      <td>홍길동</td>\n",
       "      <td>2021-01-08 9:20</td>\n",
       "      <td>1004@NAVER.COM</td>\n",
       "    </tr>\n",
       "    <tr>\n",
       "      <th>2</th>\n",
       "      <td>유관순</td>\n",
       "      <td>2021-02-01 10:20</td>\n",
       "      <td>Iron at yahoo.co.kr</td>\n",
       "    </tr>\n",
       "    <tr>\n",
       "      <th>3</th>\n",
       "      <td>이이</td>\n",
       "      <td>2021-02-02 11:40</td>\n",
       "      <td>\\tlee@gmail.com</td>\n",
       "    </tr>\n",
       "    <tr>\n",
       "      <th>4</th>\n",
       "      <td>김구</td>\n",
       "      <td>2021-02-28 15:10</td>\n",
       "      <td>kim@daum.net\\t</td>\n",
       "    </tr>\n",
       "    <tr>\n",
       "      <th>5</th>\n",
       "      <td>윤봉길</td>\n",
       "      <td>2021-04-10 19:20</td>\n",
       "      <td>yeon@daum.ac.kr</td>\n",
       "    </tr>\n",
       "    <tr>\n",
       "      <th>6</th>\n",
       "      <td>강감찬</td>\n",
       "      <td>2021-06-30 21:20</td>\n",
       "      <td>kkc@gmail.com</td>\n",
       "    </tr>\n",
       "    <tr>\n",
       "      <th>7</th>\n",
       "      <td>신사임당</td>\n",
       "      <td>2021-07-20 23:30</td>\n",
       "      <td>monther@NAVER.COM</td>\n",
       "    </tr>\n",
       "    <tr>\n",
       "      <th>8</th>\n",
       "      <td>을지문덕</td>\n",
       "      <td>2021-08-28 11:48</td>\n",
       "      <td>ygmd@daum.net</td>\n",
       "    </tr>\n",
       "    <tr>\n",
       "      <th>9</th>\n",
       "      <td>유재석</td>\n",
       "      <td>2021-09-01 3:12</td>\n",
       "      <td>yjs at gmail.com</td>\n",
       "    </tr>\n",
       "  </tbody>\n",
       "</table>\n",
       "</div>"
      ],
      "text/plain": [
       "   Name             Birth                  email\n",
       "0   이순신   2021-01-01 9:10       happy@gmail.com \n",
       "1   홍길동   2021-01-08 9:20         1004@NAVER.COM\n",
       "2   유관순  2021-02-01 10:20   Iron at yahoo.co.kr \n",
       "3    이이  2021-02-02 11:40        \\tlee@gmail.com\n",
       "4    김구  2021-02-28 15:10         kim@daum.net\\t\n",
       "5   윤봉길  2021-04-10 19:20        yeon@daum.ac.kr\n",
       "6   강감찬  2021-06-30 21:20          kkc@gmail.com\n",
       "7  신사임당  2021-07-20 23:30     monther@NAVER.COM \n",
       "8  을지문덕  2021-08-28 11:48          ygmd@daum.net\n",
       "9   유재석   2021-09-01 3:12       yjs at gmail.com"
      ]
     },
     "execution_count": 6,
     "metadata": {},
     "output_type": "execute_result"
    }
   ],
   "source": [
    "df = pd.read_csv('dataset/01.date_data.csv')\n",
    "df"
   ]
  },
  {
   "cell_type": "code",
   "execution_count": 7,
   "metadata": {},
   "outputs": [
    {
     "data": {
      "text/plain": [
       "1    홍길동\n",
       "2    유관순\n",
       "Name: Name, dtype: object"
      ]
     },
     "execution_count": 7,
     "metadata": {},
     "output_type": "execute_result"
    }
   ],
   "source": [
    "df.iloc[1:3, 0]"
   ]
  },
  {
   "cell_type": "code",
   "execution_count": 8,
   "metadata": {},
   "outputs": [
    {
     "data": {
      "text/plain": [
       "'kim@daum.net\\t'"
      ]
     },
     "execution_count": 8,
     "metadata": {},
     "output_type": "execute_result"
    }
   ],
   "source": [
    "df.iloc[4, 2]"
   ]
  },
  {
   "cell_type": "markdown",
   "metadata": {},
   "source": [
    "### loc 속성\n",
    "\n",
    "- 데이터들을 slicing 하는 기술\n",
    "- loc[index, columns]\n",
    "- loc는 레이블로만 선택\n",
    "- 여러 개의 레이블을 선택하려면 리스트 전달\n",
    "- 동일한 간격으로 선택하려면 슬라이스 표기 사용\n",
    "- 마지막 레이블까지 포함"
   ]
  },
  {
   "cell_type": "code",
   "execution_count": 10,
   "metadata": {},
   "outputs": [
    {
     "data": {
      "text/html": [
       "<div>\n",
       "<style scoped>\n",
       "    .dataframe tbody tr th:only-of-type {\n",
       "        vertical-align: middle;\n",
       "    }\n",
       "\n",
       "    .dataframe tbody tr th {\n",
       "        vertical-align: top;\n",
       "    }\n",
       "\n",
       "    .dataframe thead th {\n",
       "        text-align: right;\n",
       "    }\n",
       "</style>\n",
       "<table border=\"1\" class=\"dataframe\">\n",
       "  <thead>\n",
       "    <tr style=\"text-align: right;\">\n",
       "      <th></th>\n",
       "      <th>Name</th>\n",
       "      <th>Birth</th>\n",
       "      <th>email</th>\n",
       "    </tr>\n",
       "  </thead>\n",
       "  <tbody>\n",
       "    <tr>\n",
       "      <th>0</th>\n",
       "      <td>이순신</td>\n",
       "      <td>2021-01-01 9:10</td>\n",
       "      <td>happy@gmail.com</td>\n",
       "    </tr>\n",
       "    <tr>\n",
       "      <th>1</th>\n",
       "      <td>홍길동</td>\n",
       "      <td>2021-01-08 9:20</td>\n",
       "      <td>1004@NAVER.COM</td>\n",
       "    </tr>\n",
       "    <tr>\n",
       "      <th>2</th>\n",
       "      <td>유관순</td>\n",
       "      <td>2021-02-01 10:20</td>\n",
       "      <td>Iron at yahoo.co.kr</td>\n",
       "    </tr>\n",
       "    <tr>\n",
       "      <th>3</th>\n",
       "      <td>이이</td>\n",
       "      <td>2021-02-02 11:40</td>\n",
       "      <td>\\tlee@gmail.com</td>\n",
       "    </tr>\n",
       "    <tr>\n",
       "      <th>4</th>\n",
       "      <td>김구</td>\n",
       "      <td>2021-02-28 15:10</td>\n",
       "      <td>kim@daum.net\\t</td>\n",
       "    </tr>\n",
       "    <tr>\n",
       "      <th>5</th>\n",
       "      <td>윤봉길</td>\n",
       "      <td>2021-04-10 19:20</td>\n",
       "      <td>yeon@daum.ac.kr</td>\n",
       "    </tr>\n",
       "    <tr>\n",
       "      <th>6</th>\n",
       "      <td>강감찬</td>\n",
       "      <td>2021-06-30 21:20</td>\n",
       "      <td>kkc@gmail.com</td>\n",
       "    </tr>\n",
       "    <tr>\n",
       "      <th>7</th>\n",
       "      <td>신사임당</td>\n",
       "      <td>2021-07-20 23:30</td>\n",
       "      <td>monther@NAVER.COM</td>\n",
       "    </tr>\n",
       "    <tr>\n",
       "      <th>8</th>\n",
       "      <td>을지문덕</td>\n",
       "      <td>2021-08-28 11:48</td>\n",
       "      <td>ygmd@daum.net</td>\n",
       "    </tr>\n",
       "    <tr>\n",
       "      <th>9</th>\n",
       "      <td>유재석</td>\n",
       "      <td>2021-09-01 3:12</td>\n",
       "      <td>yjs at gmail.com</td>\n",
       "    </tr>\n",
       "  </tbody>\n",
       "</table>\n",
       "</div>"
      ],
      "text/plain": [
       "   Name             Birth                  email\n",
       "0   이순신   2021-01-01 9:10       happy@gmail.com \n",
       "1   홍길동   2021-01-08 9:20         1004@NAVER.COM\n",
       "2   유관순  2021-02-01 10:20   Iron at yahoo.co.kr \n",
       "3    이이  2021-02-02 11:40        \\tlee@gmail.com\n",
       "4    김구  2021-02-28 15:10         kim@daum.net\\t\n",
       "5   윤봉길  2021-04-10 19:20        yeon@daum.ac.kr\n",
       "6   강감찬  2021-06-30 21:20          kkc@gmail.com\n",
       "7  신사임당  2021-07-20 23:30     monther@NAVER.COM \n",
       "8  을지문덕  2021-08-28 11:48          ygmd@daum.net\n",
       "9   유재석   2021-09-01 3:12       yjs at gmail.com"
      ]
     },
     "execution_count": 10,
     "metadata": {},
     "output_type": "execute_result"
    }
   ],
   "source": [
    "df = pd.read_csv('dataset/01.date_data.csv')\n",
    "df"
   ]
  },
  {
   "cell_type": "code",
   "execution_count": 11,
   "metadata": {},
   "outputs": [
    {
     "data": {
      "text/html": [
       "<div>\n",
       "<style scoped>\n",
       "    .dataframe tbody tr th:only-of-type {\n",
       "        vertical-align: middle;\n",
       "    }\n",
       "\n",
       "    .dataframe tbody tr th {\n",
       "        vertical-align: top;\n",
       "    }\n",
       "\n",
       "    .dataframe thead th {\n",
       "        text-align: right;\n",
       "    }\n",
       "</style>\n",
       "<table border=\"1\" class=\"dataframe\">\n",
       "  <thead>\n",
       "    <tr style=\"text-align: right;\">\n",
       "      <th></th>\n",
       "      <th>Name</th>\n",
       "      <th>Birth</th>\n",
       "    </tr>\n",
       "  </thead>\n",
       "  <tbody>\n",
       "    <tr>\n",
       "      <th>0</th>\n",
       "      <td>이순신</td>\n",
       "      <td>2021-01-01 9:10</td>\n",
       "    </tr>\n",
       "    <tr>\n",
       "      <th>1</th>\n",
       "      <td>홍길동</td>\n",
       "      <td>2021-01-08 9:20</td>\n",
       "    </tr>\n",
       "    <tr>\n",
       "      <th>2</th>\n",
       "      <td>유관순</td>\n",
       "      <td>2021-02-01 10:20</td>\n",
       "    </tr>\n",
       "    <tr>\n",
       "      <th>3</th>\n",
       "      <td>이이</td>\n",
       "      <td>2021-02-02 11:40</td>\n",
       "    </tr>\n",
       "    <tr>\n",
       "      <th>4</th>\n",
       "      <td>김구</td>\n",
       "      <td>2021-02-28 15:10</td>\n",
       "    </tr>\n",
       "    <tr>\n",
       "      <th>5</th>\n",
       "      <td>윤봉길</td>\n",
       "      <td>2021-04-10 19:20</td>\n",
       "    </tr>\n",
       "    <tr>\n",
       "      <th>6</th>\n",
       "      <td>강감찬</td>\n",
       "      <td>2021-06-30 21:20</td>\n",
       "    </tr>\n",
       "    <tr>\n",
       "      <th>7</th>\n",
       "      <td>신사임당</td>\n",
       "      <td>2021-07-20 23:30</td>\n",
       "    </tr>\n",
       "    <tr>\n",
       "      <th>8</th>\n",
       "      <td>을지문덕</td>\n",
       "      <td>2021-08-28 11:48</td>\n",
       "    </tr>\n",
       "    <tr>\n",
       "      <th>9</th>\n",
       "      <td>유재석</td>\n",
       "      <td>2021-09-01 3:12</td>\n",
       "    </tr>\n",
       "  </tbody>\n",
       "</table>\n",
       "</div>"
      ],
      "text/plain": [
       "   Name             Birth\n",
       "0   이순신   2021-01-01 9:10\n",
       "1   홍길동   2021-01-08 9:20\n",
       "2   유관순  2021-02-01 10:20\n",
       "3    이이  2021-02-02 11:40\n",
       "4    김구  2021-02-28 15:10\n",
       "5   윤봉길  2021-04-10 19:20\n",
       "6   강감찬  2021-06-30 21:20\n",
       "7  신사임당  2021-07-20 23:30\n",
       "8  을지문덕  2021-08-28 11:48\n",
       "9   유재석   2021-09-01 3:12"
      ]
     },
     "execution_count": 11,
     "metadata": {},
     "output_type": "execute_result"
    }
   ],
   "source": [
    "df.loc[:,['Name', 'Birth']]"
   ]
  },
  {
   "cell_type": "markdown",
   "metadata": {},
   "source": [
    "**iloc를 통해 데이터 수정이 가능한지 확인**"
   ]
  },
  {
   "cell_type": "code",
   "execution_count": 12,
   "metadata": {},
   "outputs": [
    {
     "data": {
      "text/html": [
       "<div>\n",
       "<style scoped>\n",
       "    .dataframe tbody tr th:only-of-type {\n",
       "        vertical-align: middle;\n",
       "    }\n",
       "\n",
       "    .dataframe tbody tr th {\n",
       "        vertical-align: top;\n",
       "    }\n",
       "\n",
       "    .dataframe thead th {\n",
       "        text-align: right;\n",
       "    }\n",
       "</style>\n",
       "<table border=\"1\" class=\"dataframe\">\n",
       "  <thead>\n",
       "    <tr style=\"text-align: right;\">\n",
       "      <th></th>\n",
       "      <th>Name</th>\n",
       "      <th>Birth</th>\n",
       "      <th>email</th>\n",
       "    </tr>\n",
       "  </thead>\n",
       "  <tbody>\n",
       "    <tr>\n",
       "      <th>0</th>\n",
       "      <td>김순신</td>\n",
       "      <td>2021-01-01 9:10</td>\n",
       "      <td>happy@gmail.com</td>\n",
       "    </tr>\n",
       "    <tr>\n",
       "      <th>1</th>\n",
       "      <td>홍길동</td>\n",
       "      <td>2021-01-08 9:20</td>\n",
       "      <td>1004@NAVER.COM</td>\n",
       "    </tr>\n",
       "    <tr>\n",
       "      <th>2</th>\n",
       "      <td>유관순</td>\n",
       "      <td>2021-02-01 10:20</td>\n",
       "      <td>Iron at yahoo.co.kr</td>\n",
       "    </tr>\n",
       "    <tr>\n",
       "      <th>3</th>\n",
       "      <td>이이</td>\n",
       "      <td>2021-02-02 11:40</td>\n",
       "      <td>\\tlee@gmail.com</td>\n",
       "    </tr>\n",
       "    <tr>\n",
       "      <th>4</th>\n",
       "      <td>김구</td>\n",
       "      <td>2021-02-28 15:10</td>\n",
       "      <td>kim@daum.net\\t</td>\n",
       "    </tr>\n",
       "    <tr>\n",
       "      <th>5</th>\n",
       "      <td>윤봉길</td>\n",
       "      <td>2021-04-10 19:20</td>\n",
       "      <td>yeon@daum.ac.kr</td>\n",
       "    </tr>\n",
       "    <tr>\n",
       "      <th>6</th>\n",
       "      <td>강감찬</td>\n",
       "      <td>2021-06-30 21:20</td>\n",
       "      <td>kkc@gmail.com</td>\n",
       "    </tr>\n",
       "    <tr>\n",
       "      <th>7</th>\n",
       "      <td>신사임당</td>\n",
       "      <td>2021-07-20 23:30</td>\n",
       "      <td>monther@NAVER.COM</td>\n",
       "    </tr>\n",
       "    <tr>\n",
       "      <th>8</th>\n",
       "      <td>을지문덕</td>\n",
       "      <td>2021-08-28 11:48</td>\n",
       "      <td>ygmd@daum.net</td>\n",
       "    </tr>\n",
       "    <tr>\n",
       "      <th>9</th>\n",
       "      <td>유재석</td>\n",
       "      <td>2021-09-01 3:12</td>\n",
       "      <td>yjs at gmail.com</td>\n",
       "    </tr>\n",
       "  </tbody>\n",
       "</table>\n",
       "</div>"
      ],
      "text/plain": [
       "   Name             Birth                  email\n",
       "0   김순신   2021-01-01 9:10       happy@gmail.com \n",
       "1   홍길동   2021-01-08 9:20         1004@NAVER.COM\n",
       "2   유관순  2021-02-01 10:20   Iron at yahoo.co.kr \n",
       "3    이이  2021-02-02 11:40        \\tlee@gmail.com\n",
       "4    김구  2021-02-28 15:10         kim@daum.net\\t\n",
       "5   윤봉길  2021-04-10 19:20        yeon@daum.ac.kr\n",
       "6   강감찬  2021-06-30 21:20          kkc@gmail.com\n",
       "7  신사임당  2021-07-20 23:30     monther@NAVER.COM \n",
       "8  을지문덕  2021-08-28 11:48          ygmd@daum.net\n",
       "9   유재석   2021-09-01 3:12       yjs at gmail.com"
      ]
     },
     "execution_count": 12,
     "metadata": {},
     "output_type": "execute_result"
    }
   ],
   "source": [
    "df.iloc[0,0] = '김순신'\n",
    "df"
   ]
  },
  {
   "cell_type": "markdown",
   "metadata": {},
   "source": [
    "# 존재하는 파일의 내용으로 DataFrame 생성\n",
    "## read_csv에서 구분자 설정\n",
    "**delimiter='\\t' : 구분자를 tab으로 설정**"
   ]
  },
  {
   "cell_type": "code",
   "execution_count": 13,
   "metadata": {},
   "outputs": [
    {
     "data": {
      "text/html": [
       "<div>\n",
       "<style scoped>\n",
       "    .dataframe tbody tr th:only-of-type {\n",
       "        vertical-align: middle;\n",
       "    }\n",
       "\n",
       "    .dataframe tbody tr th {\n",
       "        vertical-align: top;\n",
       "    }\n",
       "\n",
       "    .dataframe thead th {\n",
       "        text-align: right;\n",
       "    }\n",
       "</style>\n",
       "<table border=\"1\" class=\"dataframe\">\n",
       "  <thead>\n",
       "    <tr style=\"text-align: right;\">\n",
       "      <th></th>\n",
       "      <th>이름</th>\n",
       "      <th>나이</th>\n",
       "      <th>직업</th>\n",
       "      <th>hobby</th>\n",
       "    </tr>\n",
       "  </thead>\n",
       "  <tbody>\n",
       "    <tr>\n",
       "      <th>0</th>\n",
       "      <td>신동엽</td>\n",
       "      <td>20</td>\n",
       "      <td>연예인</td>\n",
       "      <td>music</td>\n",
       "    </tr>\n",
       "    <tr>\n",
       "      <th>1</th>\n",
       "      <td>유재석</td>\n",
       "      <td>41</td>\n",
       "      <td>교수</td>\n",
       "      <td>art</td>\n",
       "    </tr>\n",
       "    <tr>\n",
       "      <th>2</th>\n",
       "      <td>김새롬</td>\n",
       "      <td>18</td>\n",
       "      <td>학생</td>\n",
       "      <td>study</td>\n",
       "    </tr>\n",
       "    <tr>\n",
       "      <th>3</th>\n",
       "      <td>이영자</td>\n",
       "      <td>45</td>\n",
       "      <td>상담사</td>\n",
       "      <td>talk</td>\n",
       "    </tr>\n",
       "    <tr>\n",
       "      <th>4</th>\n",
       "      <td>강호동</td>\n",
       "      <td>38</td>\n",
       "      <td>연예인</td>\n",
       "      <td>talk</td>\n",
       "    </tr>\n",
       "  </tbody>\n",
       "</table>\n",
       "</div>"
      ],
      "text/plain": [
       "    이름  나이   직업  hobby\n",
       "0  신동엽  20  연예인  music\n",
       "1  유재석  41   교수    art\n",
       "2  김새롬  18   학생  study\n",
       "3  이영자  45  상담사   talk\n",
       "4  강호동  38  연예인   talk"
      ]
     },
     "execution_count": 13,
     "metadata": {},
     "output_type": "execute_result"
    }
   ],
   "source": [
    "df = pd.read_csv('dataset/03.friendsTab.txt', delimiter='\\t')\n",
    "df"
   ]
  },
  {
   "cell_type": "markdown",
   "metadata": {},
   "source": [
    "**header 가 없는 외부 파일 read시에 header 미 적용 설정** <br>\n",
    "**names 속성을 사용하여 header 설정 가능하다**"
   ]
  },
  {
   "cell_type": "code",
   "execution_count": 16,
   "metadata": {},
   "outputs": [
    {
     "data": {
      "text/html": [
       "<div>\n",
       "<style scoped>\n",
       "    .dataframe tbody tr th:only-of-type {\n",
       "        vertical-align: middle;\n",
       "    }\n",
       "\n",
       "    .dataframe tbody tr th {\n",
       "        vertical-align: top;\n",
       "    }\n",
       "\n",
       "    .dataframe thead th {\n",
       "        text-align: right;\n",
       "    }\n",
       "</style>\n",
       "<table border=\"1\" class=\"dataframe\">\n",
       "  <thead>\n",
       "    <tr style=\"text-align: right;\">\n",
       "      <th></th>\n",
       "      <th>0</th>\n",
       "      <th>1</th>\n",
       "      <th>2</th>\n",
       "      <th>3</th>\n",
       "    </tr>\n",
       "  </thead>\n",
       "  <tbody>\n",
       "    <tr>\n",
       "      <th>0</th>\n",
       "      <td>신동엽</td>\n",
       "      <td>20</td>\n",
       "      <td>연예인</td>\n",
       "      <td>music</td>\n",
       "    </tr>\n",
       "    <tr>\n",
       "      <th>1</th>\n",
       "      <td>유재석</td>\n",
       "      <td>41</td>\n",
       "      <td>교수</td>\n",
       "      <td>art</td>\n",
       "    </tr>\n",
       "    <tr>\n",
       "      <th>2</th>\n",
       "      <td>김새롬</td>\n",
       "      <td>18</td>\n",
       "      <td>학생</td>\n",
       "      <td>study</td>\n",
       "    </tr>\n",
       "    <tr>\n",
       "      <th>3</th>\n",
       "      <td>이영자</td>\n",
       "      <td>45</td>\n",
       "      <td>상담사</td>\n",
       "      <td>talk</td>\n",
       "    </tr>\n",
       "    <tr>\n",
       "      <th>4</th>\n",
       "      <td>강호동</td>\n",
       "      <td>38</td>\n",
       "      <td>연예인</td>\n",
       "      <td>talk</td>\n",
       "    </tr>\n",
       "  </tbody>\n",
       "</table>\n",
       "</div>"
      ],
      "text/plain": [
       "     0   1    2      3\n",
       "0  신동엽  20  연예인  music\n",
       "1  유재석  41   교수    art\n",
       "2  김새롬  18   학생  study\n",
       "3  이영자  45  상담사   talk\n",
       "4  강호동  38  연예인   talk"
      ]
     },
     "execution_count": 16,
     "metadata": {},
     "output_type": "execute_result"
    }
   ],
   "source": [
    "df = pd.read_csv('dataset/04.friendsTabNoHead.txt', delimiter='\\t', header=None)\n",
    "df"
   ]
  },
  {
   "cell_type": "code",
   "execution_count": 18,
   "metadata": {},
   "outputs": [
    {
     "data": {
      "text/html": [
       "<div>\n",
       "<style scoped>\n",
       "    .dataframe tbody tr th:only-of-type {\n",
       "        vertical-align: middle;\n",
       "    }\n",
       "\n",
       "    .dataframe tbody tr th {\n",
       "        vertical-align: top;\n",
       "    }\n",
       "\n",
       "    .dataframe thead th {\n",
       "        text-align: right;\n",
       "    }\n",
       "</style>\n",
       "<table border=\"1\" class=\"dataframe\">\n",
       "  <thead>\n",
       "    <tr style=\"text-align: right;\">\n",
       "      <th></th>\n",
       "      <th>이름</th>\n",
       "      <th>나이</th>\n",
       "      <th>직업</th>\n",
       "      <th>취미</th>\n",
       "    </tr>\n",
       "  </thead>\n",
       "  <tbody>\n",
       "    <tr>\n",
       "      <th>0</th>\n",
       "      <td>신동엽</td>\n",
       "      <td>20</td>\n",
       "      <td>연예인</td>\n",
       "      <td>music</td>\n",
       "    </tr>\n",
       "    <tr>\n",
       "      <th>1</th>\n",
       "      <td>유재석</td>\n",
       "      <td>41</td>\n",
       "      <td>교수</td>\n",
       "      <td>art</td>\n",
       "    </tr>\n",
       "    <tr>\n",
       "      <th>2</th>\n",
       "      <td>김새롬</td>\n",
       "      <td>18</td>\n",
       "      <td>학생</td>\n",
       "      <td>study</td>\n",
       "    </tr>\n",
       "    <tr>\n",
       "      <th>3</th>\n",
       "      <td>이영자</td>\n",
       "      <td>45</td>\n",
       "      <td>상담사</td>\n",
       "      <td>talk</td>\n",
       "    </tr>\n",
       "    <tr>\n",
       "      <th>4</th>\n",
       "      <td>강호동</td>\n",
       "      <td>38</td>\n",
       "      <td>연예인</td>\n",
       "      <td>talk</td>\n",
       "    </tr>\n",
       "  </tbody>\n",
       "</table>\n",
       "</div>"
      ],
      "text/plain": [
       "    이름  나이   직업     취미\n",
       "0  신동엽  20  연예인  music\n",
       "1  유재석  41   교수    art\n",
       "2  김새롬  18   학생  study\n",
       "3  이영자  45  상담사   talk\n",
       "4  강호동  38  연예인   talk"
      ]
     },
     "execution_count": 18,
     "metadata": {},
     "output_type": "execute_result"
    }
   ],
   "source": [
    "df = pd.read_csv('dataset/04.friendsTabNoHead.txt',\n",
    "                 delimiter='\\t', header=None, names=['이름', '나이', '직업', '취미'])\n",
    "df"
   ]
  },
  {
   "cell_type": "markdown",
   "metadata": {},
   "source": [
    "**삼항 연산식을 numpy의 where이라는 함수의 parameter로 적용시 syntax**\n",
    "- np.where(조건식, 조건식이 True일 경우, 조건식이 False일 경우)"
   ]
  },
  {
   "cell_type": "code",
   "execution_count": 19,
   "metadata": {},
   "outputs": [
    {
     "data": {
      "text/html": [
       "<div>\n",
       "<style scoped>\n",
       "    .dataframe tbody tr th:only-of-type {\n",
       "        vertical-align: middle;\n",
       "    }\n",
       "\n",
       "    .dataframe tbody tr th {\n",
       "        vertical-align: top;\n",
       "    }\n",
       "\n",
       "    .dataframe thead th {\n",
       "        text-align: right;\n",
       "    }\n",
       "</style>\n",
       "<table border=\"1\" class=\"dataframe\">\n",
       "  <thead>\n",
       "    <tr style=\"text-align: right;\">\n",
       "      <th></th>\n",
       "      <th>이름</th>\n",
       "      <th>나이</th>\n",
       "      <th>직업</th>\n",
       "      <th>취미</th>\n",
       "      <th>sal</th>\n",
       "    </tr>\n",
       "  </thead>\n",
       "  <tbody>\n",
       "    <tr>\n",
       "      <th>0</th>\n",
       "      <td>신동엽</td>\n",
       "      <td>20</td>\n",
       "      <td>연예인</td>\n",
       "      <td>music</td>\n",
       "      <td>no</td>\n",
       "    </tr>\n",
       "    <tr>\n",
       "      <th>1</th>\n",
       "      <td>유재석</td>\n",
       "      <td>41</td>\n",
       "      <td>교수</td>\n",
       "      <td>art</td>\n",
       "      <td>no</td>\n",
       "    </tr>\n",
       "    <tr>\n",
       "      <th>2</th>\n",
       "      <td>김새롬</td>\n",
       "      <td>18</td>\n",
       "      <td>학생</td>\n",
       "      <td>study</td>\n",
       "      <td>yes</td>\n",
       "    </tr>\n",
       "    <tr>\n",
       "      <th>3</th>\n",
       "      <td>이영자</td>\n",
       "      <td>45</td>\n",
       "      <td>상담사</td>\n",
       "      <td>talk</td>\n",
       "      <td>no</td>\n",
       "    </tr>\n",
       "    <tr>\n",
       "      <th>4</th>\n",
       "      <td>강호동</td>\n",
       "      <td>38</td>\n",
       "      <td>연예인</td>\n",
       "      <td>talk</td>\n",
       "      <td>no</td>\n",
       "    </tr>\n",
       "  </tbody>\n",
       "</table>\n",
       "</div>"
      ],
      "text/plain": [
       "    이름  나이   직업     취미  sal\n",
       "0  신동엽  20  연예인  music   no\n",
       "1  유재석  41   교수    art   no\n",
       "2  김새롬  18   학생  study  yes\n",
       "3  이영자  45  상담사   talk   no\n",
       "4  강호동  38  연예인   talk   no"
      ]
     },
     "execution_count": 19,
     "metadata": {},
     "output_type": "execute_result"
    }
   ],
   "source": [
    "df['sal'] = np.where(df['직업'] == '학생', 'yes', 'no')\n",
    "df"
   ]
  },
  {
   "cell_type": "markdown",
   "metadata": {},
   "source": [
    "## python data로 DataFrame 객체로 변환\n",
    "- dict의 key를 DataFrame의 Series명으로 자동 변환\n",
    "- 차후에 데이터 수집 및 관리시에 어떤 구조로 데이터를 수집하고 취합해야 하는지 설계 가능"
   ]
  },
  {
   "cell_type": "code",
   "execution_count": 20,
   "metadata": {},
   "outputs": [
    {
     "data": {
      "text/plain": [
       "list"
      ]
     },
     "execution_count": 20,
     "metadata": {},
     "output_type": "execute_result"
    }
   ],
   "source": [
    "friend_dict_list = [{'name': '신동엽', 'age': 20, 'job': '연예인', 'hobby':'music'},\n",
    "                     {'name': '유재석', 'age': 41, 'job': '교수', 'hobby':'art'},\n",
    "                     {'name': '김새롬', 'age': 18, 'job': '학생', 'hobby':'study'},\n",
    "                     {'name': '이영자', 'age' : 45, 'job': '상담사', 'hobby' : 'talk'},\n",
    "                     {'name' :  '강호동', 'age' : 38, 'job' : '연예인', 'hobby' : 'talk'}]\n",
    "type(friend_dict_list)"
   ]
  },
  {
   "cell_type": "code",
   "execution_count": 23,
   "metadata": {},
   "outputs": [
    {
     "name": "stdout",
     "output_type": "stream",
     "text": [
      "  name  age  job  hobby\n",
      "0  신동엽   20  연예인  music\n",
      "1  유재석   41   교수    art\n",
      "2  김새롬   18   학생  study\n",
      "3  이영자   45  상담사   talk\n",
      "4  강호동   38  연예인   talk\n",
      "----------------------------------------\n",
      "<class 'pandas.core.frame.DataFrame'>\n",
      "----------------------------------------\n"
     ]
    },
    {
     "data": {
      "text/html": [
       "<div>\n",
       "<style scoped>\n",
       "    .dataframe tbody tr th:only-of-type {\n",
       "        vertical-align: middle;\n",
       "    }\n",
       "\n",
       "    .dataframe tbody tr th {\n",
       "        vertical-align: top;\n",
       "    }\n",
       "\n",
       "    .dataframe thead th {\n",
       "        text-align: right;\n",
       "    }\n",
       "</style>\n",
       "<table border=\"1\" class=\"dataframe\">\n",
       "  <thead>\n",
       "    <tr style=\"text-align: right;\">\n",
       "      <th></th>\n",
       "      <th>name</th>\n",
       "      <th>age</th>\n",
       "      <th>job</th>\n",
       "      <th>hobby</th>\n",
       "    </tr>\n",
       "  </thead>\n",
       "  <tbody>\n",
       "    <tr>\n",
       "      <th>0</th>\n",
       "      <td>신동엽</td>\n",
       "      <td>20</td>\n",
       "      <td>연예인</td>\n",
       "      <td>music</td>\n",
       "    </tr>\n",
       "    <tr>\n",
       "      <th>1</th>\n",
       "      <td>유재석</td>\n",
       "      <td>41</td>\n",
       "      <td>교수</td>\n",
       "      <td>art</td>\n",
       "    </tr>\n",
       "    <tr>\n",
       "      <th>2</th>\n",
       "      <td>김새롬</td>\n",
       "      <td>18</td>\n",
       "      <td>학생</td>\n",
       "      <td>study</td>\n",
       "    </tr>\n",
       "    <tr>\n",
       "      <th>3</th>\n",
       "      <td>이영자</td>\n",
       "      <td>45</td>\n",
       "      <td>상담사</td>\n",
       "      <td>talk</td>\n",
       "    </tr>\n",
       "    <tr>\n",
       "      <th>4</th>\n",
       "      <td>강호동</td>\n",
       "      <td>38</td>\n",
       "      <td>연예인</td>\n",
       "      <td>talk</td>\n",
       "    </tr>\n",
       "  </tbody>\n",
       "</table>\n",
       "</div>"
      ],
      "text/plain": [
       "  name  age  job  hobby\n",
       "0  신동엽   20  연예인  music\n",
       "1  유재석   41   교수    art\n",
       "2  김새롬   18   학생  study\n",
       "3  이영자   45  상담사   talk\n",
       "4  강호동   38  연예인   talk"
      ]
     },
     "execution_count": 23,
     "metadata": {},
     "output_type": "execute_result"
    }
   ],
   "source": [
    "df = pd.DataFrame(friend_dict_list)\n",
    "print(df)\n",
    "print('--' * 20)\n",
    "\n",
    "print(type(df))\n",
    "print('--' * 20)\n",
    "\n",
    "df"
   ]
  },
  {
   "cell_type": "markdown",
   "metadata": {},
   "source": [
    "# 전처리?\n",
    "## 중복 데이터 제거 기술"
   ]
  },
  {
   "cell_type": "code",
   "execution_count": 32,
   "metadata": {},
   "outputs": [
    {
     "data": {
      "text/html": [
       "<div>\n",
       "<style scoped>\n",
       "    .dataframe tbody tr th:only-of-type {\n",
       "        vertical-align: middle;\n",
       "    }\n",
       "\n",
       "    .dataframe tbody tr th {\n",
       "        vertical-align: top;\n",
       "    }\n",
       "\n",
       "    .dataframe thead th {\n",
       "        text-align: right;\n",
       "    }\n",
       "</style>\n",
       "<table border=\"1\" class=\"dataframe\">\n",
       "  <thead>\n",
       "    <tr style=\"text-align: right;\">\n",
       "      <th></th>\n",
       "      <th>name</th>\n",
       "      <th>age</th>\n",
       "      <th>job</th>\n",
       "      <th>hobby</th>\n",
       "    </tr>\n",
       "  </thead>\n",
       "  <tbody>\n",
       "    <tr>\n",
       "      <th>0</th>\n",
       "      <td>신동엽</td>\n",
       "      <td>20</td>\n",
       "      <td>연예인</td>\n",
       "      <td>music</td>\n",
       "    </tr>\n",
       "    <tr>\n",
       "      <th>1</th>\n",
       "      <td>유재석</td>\n",
       "      <td>41</td>\n",
       "      <td>교수</td>\n",
       "      <td>art</td>\n",
       "    </tr>\n",
       "    <tr>\n",
       "      <th>2</th>\n",
       "      <td>김새롬</td>\n",
       "      <td>18</td>\n",
       "      <td>학생</td>\n",
       "      <td>study</td>\n",
       "    </tr>\n",
       "    <tr>\n",
       "      <th>3</th>\n",
       "      <td>이영자</td>\n",
       "      <td>45</td>\n",
       "      <td>상담사</td>\n",
       "      <td>talk</td>\n",
       "    </tr>\n",
       "    <tr>\n",
       "      <th>4</th>\n",
       "      <td>강호동</td>\n",
       "      <td>38</td>\n",
       "      <td>연예인</td>\n",
       "      <td>talk</td>\n",
       "    </tr>\n",
       "    <tr>\n",
       "      <th>5</th>\n",
       "      <td>신동엽</td>\n",
       "      <td>20</td>\n",
       "      <td>연예인</td>\n",
       "      <td>music</td>\n",
       "    </tr>\n",
       "  </tbody>\n",
       "</table>\n",
       "</div>"
      ],
      "text/plain": [
       "  name  age  job  hobby\n",
       "0  신동엽   20  연예인  music\n",
       "1  유재석   41   교수    art\n",
       "2  김새롬   18   학생  study\n",
       "3  이영자   45  상담사   talk\n",
       "4  강호동   38  연예인   talk\n",
       "5  신동엽   20  연예인  music"
      ]
     },
     "execution_count": 32,
     "metadata": {},
     "output_type": "execute_result"
    }
   ],
   "source": [
    "friend_dict_list = [{'name': '신동엽', 'age': 20, 'job': '연예인', 'hobby':'music'},\n",
    "                     {'name': '유재석', 'age': 41, 'job': '교수', 'hobby':'art'},\n",
    "                     {'name': '김새롬', 'age': 18, 'job': '학생', 'hobby':'study'},\n",
    "                     {'name': '이영자', 'age' : 45, 'job': '상담사', 'hobby' : 'talk'},\n",
    "                     {'name' :  '강호동', 'age' : 38, 'job' : '연예인', 'hobby' : 'talk'},\n",
    "                    {'name': '신동엽', 'age': 20, 'job': '연예인', 'hobby':'music'} ]\n",
    "\n",
    "df = pd.DataFrame(friend_dict_list)\n",
    "df"
   ]
  },
  {
   "cell_type": "markdown",
   "metadata": {},
   "source": [
    "**중복 데이터 여부 확인 가능한 함수**"
   ]
  },
  {
   "cell_type": "code",
   "execution_count": 33,
   "metadata": {},
   "outputs": [
    {
     "data": {
      "text/plain": [
       "0    False\n",
       "1    False\n",
       "2    False\n",
       "3    False\n",
       "4    False\n",
       "5     True\n",
       "dtype: bool"
      ]
     },
     "execution_count": 33,
     "metadata": {},
     "output_type": "execute_result"
    }
   ],
   "source": [
    "# index 5는 중복된 데이터라서 True라고 나온다.\n",
    "df.duplicated()"
   ]
  },
  {
   "cell_type": "markdown",
   "metadata": {},
   "source": [
    "**중복된 데이터 삭제하는 함수**\n",
    "- 컬럼명을 넣는다면 해당 시리즈의 중복 데이터만 찾는다.\n",
    "- keep='first' : 중복되는 데이터 중 첫번째 데이터를 제외하고 다 제거한다.\n",
    "- keep='last' : 중복되는 데이터 중 마지막 데이터를 제외하고 다 제거한다.\n",
    "- inplace=True : 원본에 삭제 변경 사항을 여과없이 적용, 원본 수정\n"
   ]
  },
  {
   "cell_type": "code",
   "execution_count": 30,
   "metadata": {},
   "outputs": [
    {
     "data": {
      "text/html": [
       "<div>\n",
       "<style scoped>\n",
       "    .dataframe tbody tr th:only-of-type {\n",
       "        vertical-align: middle;\n",
       "    }\n",
       "\n",
       "    .dataframe tbody tr th {\n",
       "        vertical-align: top;\n",
       "    }\n",
       "\n",
       "    .dataframe thead th {\n",
       "        text-align: right;\n",
       "    }\n",
       "</style>\n",
       "<table border=\"1\" class=\"dataframe\">\n",
       "  <thead>\n",
       "    <tr style=\"text-align: right;\">\n",
       "      <th></th>\n",
       "      <th>name</th>\n",
       "      <th>age</th>\n",
       "      <th>job</th>\n",
       "      <th>hobby</th>\n",
       "    </tr>\n",
       "  </thead>\n",
       "  <tbody>\n",
       "    <tr>\n",
       "      <th>0</th>\n",
       "      <td>신동엽</td>\n",
       "      <td>20</td>\n",
       "      <td>연예인</td>\n",
       "      <td>music</td>\n",
       "    </tr>\n",
       "    <tr>\n",
       "      <th>1</th>\n",
       "      <td>유재석</td>\n",
       "      <td>41</td>\n",
       "      <td>교수</td>\n",
       "      <td>art</td>\n",
       "    </tr>\n",
       "    <tr>\n",
       "      <th>2</th>\n",
       "      <td>김새롬</td>\n",
       "      <td>18</td>\n",
       "      <td>학생</td>\n",
       "      <td>study</td>\n",
       "    </tr>\n",
       "    <tr>\n",
       "      <th>3</th>\n",
       "      <td>이영자</td>\n",
       "      <td>45</td>\n",
       "      <td>상담사</td>\n",
       "      <td>talk</td>\n",
       "    </tr>\n",
       "    <tr>\n",
       "      <th>4</th>\n",
       "      <td>강호동</td>\n",
       "      <td>38</td>\n",
       "      <td>연예인</td>\n",
       "      <td>talk</td>\n",
       "    </tr>\n",
       "  </tbody>\n",
       "</table>\n",
       "</div>"
      ],
      "text/plain": [
       "  name  age  job  hobby\n",
       "0  신동엽   20  연예인  music\n",
       "1  유재석   41   교수    art\n",
       "2  김새롬   18   학생  study\n",
       "3  이영자   45  상담사   talk\n",
       "4  강호동   38  연예인   talk"
      ]
     },
     "execution_count": 30,
     "metadata": {},
     "output_type": "execute_result"
    }
   ],
   "source": [
    "df.drop_duplicates(inplace=True)\n",
    "df"
   ]
  },
  {
   "cell_type": "code",
   "execution_count": 34,
   "metadata": {},
   "outputs": [
    {
     "data": {
      "text/html": [
       "<div>\n",
       "<style scoped>\n",
       "    .dataframe tbody tr th:only-of-type {\n",
       "        vertical-align: middle;\n",
       "    }\n",
       "\n",
       "    .dataframe tbody tr th {\n",
       "        vertical-align: top;\n",
       "    }\n",
       "\n",
       "    .dataframe thead th {\n",
       "        text-align: right;\n",
       "    }\n",
       "</style>\n",
       "<table border=\"1\" class=\"dataframe\">\n",
       "  <thead>\n",
       "    <tr style=\"text-align: right;\">\n",
       "      <th></th>\n",
       "      <th>name</th>\n",
       "      <th>age</th>\n",
       "      <th>job</th>\n",
       "      <th>hobby</th>\n",
       "    </tr>\n",
       "  </thead>\n",
       "  <tbody>\n",
       "    <tr>\n",
       "      <th>1</th>\n",
       "      <td>유재석</td>\n",
       "      <td>41</td>\n",
       "      <td>교수</td>\n",
       "      <td>art</td>\n",
       "    </tr>\n",
       "    <tr>\n",
       "      <th>2</th>\n",
       "      <td>김새롬</td>\n",
       "      <td>18</td>\n",
       "      <td>학생</td>\n",
       "      <td>study</td>\n",
       "    </tr>\n",
       "    <tr>\n",
       "      <th>3</th>\n",
       "      <td>이영자</td>\n",
       "      <td>45</td>\n",
       "      <td>상담사</td>\n",
       "      <td>talk</td>\n",
       "    </tr>\n",
       "    <tr>\n",
       "      <th>4</th>\n",
       "      <td>강호동</td>\n",
       "      <td>38</td>\n",
       "      <td>연예인</td>\n",
       "      <td>talk</td>\n",
       "    </tr>\n",
       "    <tr>\n",
       "      <th>5</th>\n",
       "      <td>신동엽</td>\n",
       "      <td>20</td>\n",
       "      <td>연예인</td>\n",
       "      <td>music</td>\n",
       "    </tr>\n",
       "  </tbody>\n",
       "</table>\n",
       "</div>"
      ],
      "text/plain": [
       "  name  age  job  hobby\n",
       "1  유재석   41   교수    art\n",
       "2  김새롬   18   학생  study\n",
       "3  이영자   45  상담사   talk\n",
       "4  강호동   38  연예인   talk\n",
       "5  신동엽   20  연예인  music"
      ]
     },
     "execution_count": 34,
     "metadata": {},
     "output_type": "execute_result"
    }
   ],
   "source": [
    "df.drop_duplicates(keep='last')"
   ]
  },
  {
   "cell_type": "code",
   "execution_count": 35,
   "metadata": {},
   "outputs": [
    {
     "data": {
      "text/html": [
       "<div>\n",
       "<style scoped>\n",
       "    .dataframe tbody tr th:only-of-type {\n",
       "        vertical-align: middle;\n",
       "    }\n",
       "\n",
       "    .dataframe tbody tr th {\n",
       "        vertical-align: top;\n",
       "    }\n",
       "\n",
       "    .dataframe thead th {\n",
       "        text-align: right;\n",
       "    }\n",
       "</style>\n",
       "<table border=\"1\" class=\"dataframe\">\n",
       "  <thead>\n",
       "    <tr style=\"text-align: right;\">\n",
       "      <th></th>\n",
       "      <th>name</th>\n",
       "      <th>age</th>\n",
       "      <th>job</th>\n",
       "      <th>hobby</th>\n",
       "    </tr>\n",
       "  </thead>\n",
       "  <tbody>\n",
       "    <tr>\n",
       "      <th>0</th>\n",
       "      <td>신동엽</td>\n",
       "      <td>20</td>\n",
       "      <td>연예인</td>\n",
       "      <td>music</td>\n",
       "    </tr>\n",
       "    <tr>\n",
       "      <th>1</th>\n",
       "      <td>유재석</td>\n",
       "      <td>41</td>\n",
       "      <td>교수</td>\n",
       "      <td>art</td>\n",
       "    </tr>\n",
       "    <tr>\n",
       "      <th>2</th>\n",
       "      <td>김새롬</td>\n",
       "      <td>18</td>\n",
       "      <td>학생</td>\n",
       "      <td>study</td>\n",
       "    </tr>\n",
       "    <tr>\n",
       "      <th>3</th>\n",
       "      <td>이영자</td>\n",
       "      <td>45</td>\n",
       "      <td>상담사</td>\n",
       "      <td>talk</td>\n",
       "    </tr>\n",
       "    <tr>\n",
       "      <th>4</th>\n",
       "      <td>강호동</td>\n",
       "      <td>38</td>\n",
       "      <td>연예인</td>\n",
       "      <td>talk</td>\n",
       "    </tr>\n",
       "  </tbody>\n",
       "</table>\n",
       "</div>"
      ],
      "text/plain": [
       "  name  age  job  hobby\n",
       "0  신동엽   20  연예인  music\n",
       "1  유재석   41   교수    art\n",
       "2  김새롬   18   학생  study\n",
       "3  이영자   45  상담사   talk\n",
       "4  강호동   38  연예인   talk"
      ]
     },
     "execution_count": 35,
     "metadata": {},
     "output_type": "execute_result"
    }
   ],
   "source": [
    "df.drop_duplicates(keep='first')"
   ]
  },
  {
   "cell_type": "code",
   "execution_count": 37,
   "metadata": {},
   "outputs": [
    {
     "data": {
      "text/html": [
       "<div>\n",
       "<style scoped>\n",
       "    .dataframe tbody tr th:only-of-type {\n",
       "        vertical-align: middle;\n",
       "    }\n",
       "\n",
       "    .dataframe tbody tr th {\n",
       "        vertical-align: top;\n",
       "    }\n",
       "\n",
       "    .dataframe thead th {\n",
       "        text-align: right;\n",
       "    }\n",
       "</style>\n",
       "<table border=\"1\" class=\"dataframe\">\n",
       "  <thead>\n",
       "    <tr style=\"text-align: right;\">\n",
       "      <th></th>\n",
       "      <th>name</th>\n",
       "      <th>age</th>\n",
       "      <th>job</th>\n",
       "      <th>hobby</th>\n",
       "    </tr>\n",
       "  </thead>\n",
       "  <tbody>\n",
       "    <tr>\n",
       "      <th>1</th>\n",
       "      <td>유재석</td>\n",
       "      <td>41</td>\n",
       "      <td>교수</td>\n",
       "      <td>art</td>\n",
       "    </tr>\n",
       "    <tr>\n",
       "      <th>2</th>\n",
       "      <td>김새롬</td>\n",
       "      <td>18</td>\n",
       "      <td>학생</td>\n",
       "      <td>study</td>\n",
       "    </tr>\n",
       "    <tr>\n",
       "      <th>4</th>\n",
       "      <td>강호동</td>\n",
       "      <td>38</td>\n",
       "      <td>연예인</td>\n",
       "      <td>talk</td>\n",
       "    </tr>\n",
       "    <tr>\n",
       "      <th>5</th>\n",
       "      <td>신동엽</td>\n",
       "      <td>20</td>\n",
       "      <td>연예인</td>\n",
       "      <td>music</td>\n",
       "    </tr>\n",
       "  </tbody>\n",
       "</table>\n",
       "</div>"
      ],
      "text/plain": [
       "  name  age  job  hobby\n",
       "1  유재석   41   교수    art\n",
       "2  김새롬   18   학생  study\n",
       "4  강호동   38  연예인   talk\n",
       "5  신동엽   20  연예인  music"
      ]
     },
     "execution_count": 37,
     "metadata": {},
     "output_type": "execute_result"
    }
   ],
   "source": [
    "# hobby series에서 중복된 데이터 중 마지막 데이터를 제외하고 다 제거한다.\n",
    "df.drop_duplicates('hobby', keep='last')"
   ]
  },
  {
   "cell_type": "markdown",
   "metadata": {},
   "source": [
    "## 결측치 처리"
   ]
  },
  {
   "cell_type": "code",
   "execution_count": 38,
   "metadata": {},
   "outputs": [
    {
     "data": {
      "text/html": [
       "<div>\n",
       "<style scoped>\n",
       "    .dataframe tbody tr th:only-of-type {\n",
       "        vertical-align: middle;\n",
       "    }\n",
       "\n",
       "    .dataframe tbody tr th {\n",
       "        vertical-align: top;\n",
       "    }\n",
       "\n",
       "    .dataframe thead th {\n",
       "        text-align: right;\n",
       "    }\n",
       "</style>\n",
       "<table border=\"1\" class=\"dataframe\">\n",
       "  <thead>\n",
       "    <tr style=\"text-align: right;\">\n",
       "      <th></th>\n",
       "      <th>name</th>\n",
       "      <th>age</th>\n",
       "      <th>job</th>\n",
       "      <th>hobby</th>\n",
       "    </tr>\n",
       "  </thead>\n",
       "  <tbody>\n",
       "    <tr>\n",
       "      <th>0</th>\n",
       "      <td>신동엽</td>\n",
       "      <td>20.0</td>\n",
       "      <td>연예인</td>\n",
       "      <td>music</td>\n",
       "    </tr>\n",
       "    <tr>\n",
       "      <th>1</th>\n",
       "      <td>유재석</td>\n",
       "      <td>41.0</td>\n",
       "      <td>교수</td>\n",
       "      <td>art</td>\n",
       "    </tr>\n",
       "    <tr>\n",
       "      <th>2</th>\n",
       "      <td>김새롬</td>\n",
       "      <td>18.0</td>\n",
       "      <td>학생</td>\n",
       "      <td>study</td>\n",
       "    </tr>\n",
       "    <tr>\n",
       "      <th>3</th>\n",
       "      <td>이영자</td>\n",
       "      <td>45.0</td>\n",
       "      <td>상담사</td>\n",
       "      <td>talk</td>\n",
       "    </tr>\n",
       "    <tr>\n",
       "      <th>4</th>\n",
       "      <td>강호동</td>\n",
       "      <td>38.0</td>\n",
       "      <td>연예인</td>\n",
       "      <td>talk</td>\n",
       "    </tr>\n",
       "    <tr>\n",
       "      <th>5</th>\n",
       "      <td>신동엽</td>\n",
       "      <td>NaN</td>\n",
       "      <td>연예인</td>\n",
       "      <td>music</td>\n",
       "    </tr>\n",
       "  </tbody>\n",
       "</table>\n",
       "</div>"
      ],
      "text/plain": [
       "  name   age  job  hobby\n",
       "0  신동엽  20.0  연예인  music\n",
       "1  유재석  41.0   교수    art\n",
       "2  김새롬  18.0   학생  study\n",
       "3  이영자  45.0  상담사   talk\n",
       "4  강호동  38.0  연예인   talk\n",
       "5  신동엽   NaN  연예인  music"
      ]
     },
     "execution_count": 38,
     "metadata": {},
     "output_type": "execute_result"
    }
   ],
   "source": [
    "friend_dict_list = [{'name': '신동엽', 'age': 20, 'job': '연예인', 'hobby':'music'},\n",
    "                     {'name': '유재석', 'age': 41, 'job': '교수', 'hobby':'art'},\n",
    "                     {'name': '김새롬', 'age': 18, 'job': '학생', 'hobby':'study'},\n",
    "                     {'name': '이영자', 'age' : 45, 'job': '상담사', 'hobby' : 'talk'},\n",
    "                     {'name' :  '강호동', 'age' : 38, 'job' : '연예인', 'hobby' : 'talk'},\n",
    "                    {'name': '신동엽', 'age': None, 'job': '연예인', 'hobby':'music'} ]\n",
    "df = pd.DataFrame(friend_dict_list)\n",
    "df"
   ]
  },
  {
   "cell_type": "code",
   "execution_count": 40,
   "metadata": {},
   "outputs": [
    {
     "name": "stdout",
     "output_type": "stream",
     "text": [
      "<class 'pandas.core.frame.DataFrame'>\n",
      "RangeIndex: 6 entries, 0 to 5\n",
      "Data columns (total 4 columns):\n",
      " #   Column  Non-Null Count  Dtype  \n",
      "---  ------  --------------  -----  \n",
      " 0   name    6 non-null      object \n",
      " 1   age     5 non-null      float64\n",
      " 2   job     6 non-null      object \n",
      " 3   hobby   6 non-null      object \n",
      "dtypes: float64(1), object(3)\n",
      "memory usage: 320.0+ bytes\n"
     ]
    }
   ],
   "source": [
    "# 결측치의 존재 확인\n",
    "df.info()"
   ]
  },
  {
   "cell_type": "markdown",
   "metadata": {},
   "source": [
    "- 사람 데이터에서 나이(age)는 없을 수 없다.\n",
    "- 결측치 처리 방법\n",
    "    - 평균값 / 중앙값 / 최빈값/ .."
   ]
  },
  {
   "cell_type": "code",
   "execution_count": 41,
   "metadata": {},
   "outputs": [
    {
     "data": {
      "text/html": [
       "<div>\n",
       "<style scoped>\n",
       "    .dataframe tbody tr th:only-of-type {\n",
       "        vertical-align: middle;\n",
       "    }\n",
       "\n",
       "    .dataframe tbody tr th {\n",
       "        vertical-align: top;\n",
       "    }\n",
       "\n",
       "    .dataframe thead th {\n",
       "        text-align: right;\n",
       "    }\n",
       "</style>\n",
       "<table border=\"1\" class=\"dataframe\">\n",
       "  <thead>\n",
       "    <tr style=\"text-align: right;\">\n",
       "      <th></th>\n",
       "      <th>name</th>\n",
       "      <th>age</th>\n",
       "      <th>job</th>\n",
       "      <th>hobby</th>\n",
       "    </tr>\n",
       "  </thead>\n",
       "  <tbody>\n",
       "    <tr>\n",
       "      <th>0</th>\n",
       "      <td>신동엽</td>\n",
       "      <td>20.0</td>\n",
       "      <td>연예인</td>\n",
       "      <td>music</td>\n",
       "    </tr>\n",
       "    <tr>\n",
       "      <th>1</th>\n",
       "      <td>유재석</td>\n",
       "      <td>41.0</td>\n",
       "      <td>교수</td>\n",
       "      <td>art</td>\n",
       "    </tr>\n",
       "    <tr>\n",
       "      <th>2</th>\n",
       "      <td>김새롬</td>\n",
       "      <td>18.0</td>\n",
       "      <td>학생</td>\n",
       "      <td>study</td>\n",
       "    </tr>\n",
       "    <tr>\n",
       "      <th>3</th>\n",
       "      <td>이영자</td>\n",
       "      <td>45.0</td>\n",
       "      <td>상담사</td>\n",
       "      <td>talk</td>\n",
       "    </tr>\n",
       "    <tr>\n",
       "      <th>4</th>\n",
       "      <td>강호동</td>\n",
       "      <td>38.0</td>\n",
       "      <td>연예인</td>\n",
       "      <td>talk</td>\n",
       "    </tr>\n",
       "    <tr>\n",
       "      <th>5</th>\n",
       "      <td>신동엽</td>\n",
       "      <td>38.0</td>\n",
       "      <td>연예인</td>\n",
       "      <td>music</td>\n",
       "    </tr>\n",
       "  </tbody>\n",
       "</table>\n",
       "</div>"
      ],
      "text/plain": [
       "  name   age  job  hobby\n",
       "0  신동엽  20.0  연예인  music\n",
       "1  유재석  41.0   교수    art\n",
       "2  김새롬  18.0   학생  study\n",
       "3  이영자  45.0  상담사   talk\n",
       "4  강호동  38.0  연예인   talk\n",
       "5  신동엽  38.0  연예인  music"
      ]
     },
     "execution_count": 41,
     "metadata": {},
     "output_type": "execute_result"
    }
   ],
   "source": [
    "df['age'] = np.where(df['age'].isna(), df['age'].median(), df['age'])\n",
    "df"
   ]
  },
  {
   "cell_type": "code",
   "execution_count": 42,
   "metadata": {},
   "outputs": [
    {
     "data": {
      "text/html": [
       "<div>\n",
       "<style scoped>\n",
       "    .dataframe tbody tr th:only-of-type {\n",
       "        vertical-align: middle;\n",
       "    }\n",
       "\n",
       "    .dataframe tbody tr th {\n",
       "        vertical-align: top;\n",
       "    }\n",
       "\n",
       "    .dataframe thead th {\n",
       "        text-align: right;\n",
       "    }\n",
       "</style>\n",
       "<table border=\"1\" class=\"dataframe\">\n",
       "  <thead>\n",
       "    <tr style=\"text-align: right;\">\n",
       "      <th></th>\n",
       "      <th>name</th>\n",
       "      <th>age</th>\n",
       "      <th>job</th>\n",
       "      <th>hobby</th>\n",
       "    </tr>\n",
       "  </thead>\n",
       "  <tbody>\n",
       "    <tr>\n",
       "      <th>0</th>\n",
       "      <td>신동엽</td>\n",
       "      <td>20.0</td>\n",
       "      <td>연예인</td>\n",
       "      <td>music</td>\n",
       "    </tr>\n",
       "    <tr>\n",
       "      <th>1</th>\n",
       "      <td>유재석</td>\n",
       "      <td>41.0</td>\n",
       "      <td>교수</td>\n",
       "      <td>art</td>\n",
       "    </tr>\n",
       "    <tr>\n",
       "      <th>2</th>\n",
       "      <td>김새롬</td>\n",
       "      <td>18.0</td>\n",
       "      <td>학생</td>\n",
       "      <td>study</td>\n",
       "    </tr>\n",
       "    <tr>\n",
       "      <th>3</th>\n",
       "      <td>이영자</td>\n",
       "      <td>45.0</td>\n",
       "      <td>상담사</td>\n",
       "      <td>talk</td>\n",
       "    </tr>\n",
       "    <tr>\n",
       "      <th>4</th>\n",
       "      <td>강호동</td>\n",
       "      <td>38.0</td>\n",
       "      <td>연예인</td>\n",
       "      <td>talk</td>\n",
       "    </tr>\n",
       "    <tr>\n",
       "      <th>5</th>\n",
       "      <td>신동엽</td>\n",
       "      <td>38.0</td>\n",
       "      <td>연예인</td>\n",
       "      <td>music</td>\n",
       "    </tr>\n",
       "  </tbody>\n",
       "</table>\n",
       "</div>"
      ],
      "text/plain": [
       "  name   age  job  hobby\n",
       "0  신동엽  20.0  연예인  music\n",
       "1  유재석  41.0   교수    art\n",
       "2  김새롬  18.0   학생  study\n",
       "3  이영자  45.0  상담사   talk\n",
       "4  강호동  38.0  연예인   talk\n",
       "5  신동엽  38.0  연예인  music"
      ]
     },
     "execution_count": 42,
     "metadata": {},
     "output_type": "execute_result"
    }
   ],
   "source": [
    "df['age'].fillna(df['age'].mean(), inplace=True)\n",
    "df"
   ]
  },
  {
   "cell_type": "markdown",
   "metadata": {},
   "source": [
    "## 그룹화 하기\n",
    "**None 값을 0 값으로 치환**"
   ]
  },
  {
   "cell_type": "code",
   "execution_count": 43,
   "metadata": {},
   "outputs": [
    {
     "data": {
      "text/html": [
       "<div>\n",
       "<style scoped>\n",
       "    .dataframe tbody tr th:only-of-type {\n",
       "        vertical-align: middle;\n",
       "    }\n",
       "\n",
       "    .dataframe tbody tr th {\n",
       "        vertical-align: top;\n",
       "    }\n",
       "\n",
       "    .dataframe thead th {\n",
       "        text-align: right;\n",
       "    }\n",
       "</style>\n",
       "<table border=\"1\" class=\"dataframe\">\n",
       "  <thead>\n",
       "    <tr style=\"text-align: right;\">\n",
       "      <th></th>\n",
       "      <th>name</th>\n",
       "      <th>age</th>\n",
       "      <th>job</th>\n",
       "      <th>hobby</th>\n",
       "    </tr>\n",
       "  </thead>\n",
       "  <tbody>\n",
       "    <tr>\n",
       "      <th>0</th>\n",
       "      <td>신동엽</td>\n",
       "      <td>20.0</td>\n",
       "      <td>연예인</td>\n",
       "      <td>music</td>\n",
       "    </tr>\n",
       "    <tr>\n",
       "      <th>1</th>\n",
       "      <td>유재석</td>\n",
       "      <td>41.0</td>\n",
       "      <td>교수</td>\n",
       "      <td>art</td>\n",
       "    </tr>\n",
       "    <tr>\n",
       "      <th>2</th>\n",
       "      <td>김새롬</td>\n",
       "      <td>18.0</td>\n",
       "      <td>학생</td>\n",
       "      <td>study</td>\n",
       "    </tr>\n",
       "    <tr>\n",
       "      <th>3</th>\n",
       "      <td>이영자</td>\n",
       "      <td>45.0</td>\n",
       "      <td>상담사</td>\n",
       "      <td>talk</td>\n",
       "    </tr>\n",
       "    <tr>\n",
       "      <th>4</th>\n",
       "      <td>강호동</td>\n",
       "      <td>38.0</td>\n",
       "      <td>연예인</td>\n",
       "      <td>talk</td>\n",
       "    </tr>\n",
       "    <tr>\n",
       "      <th>5</th>\n",
       "      <td>신동엽</td>\n",
       "      <td>0.0</td>\n",
       "      <td>연예인</td>\n",
       "      <td>music</td>\n",
       "    </tr>\n",
       "  </tbody>\n",
       "</table>\n",
       "</div>"
      ],
      "text/plain": [
       "  name   age  job  hobby\n",
       "0  신동엽  20.0  연예인  music\n",
       "1  유재석  41.0   교수    art\n",
       "2  김새롬  18.0   학생  study\n",
       "3  이영자  45.0  상담사   talk\n",
       "4  강호동  38.0  연예인   talk\n",
       "5  신동엽   0.0  연예인  music"
      ]
     },
     "execution_count": 43,
     "metadata": {},
     "output_type": "execute_result"
    }
   ],
   "source": [
    "friend_dict_list = [{'name': '신동엽', 'age': 20, 'job': '연예인', 'hobby':'music'},\n",
    "                     {'name': '유재석', 'age': 41, 'job': '교수', 'hobby':'art'},\n",
    "                     {'name': '김새롬', 'age': 18, 'job': '학생', 'hobby':'study'},\n",
    "                     {'name': '이영자', 'age' : 45, 'job': '상담사', 'hobby' : 'talk'},\n",
    "                     {'name' :  '강호동', 'age' : 38, 'job' : '연예인', 'hobby' : 'talk'},\n",
    "                    {'name': '신동엽', 'age': None, 'job': '연예인', 'hobby':'music'} ]\n",
    "\n",
    "df = pd.DataFrame(friend_dict_list)\n",
    "df['age'].fillna(0, inplace=True)\n",
    "df"
   ]
  },
  {
   "cell_type": "code",
   "execution_count": 44,
   "metadata": {},
   "outputs": [
    {
     "data": {
      "text/plain": [
       "<pandas.core.groupby.generic.DataFrameGroupBy object at 0x000002BF963D7550>"
      ]
     },
     "execution_count": 44,
     "metadata": {},
     "output_type": "execute_result"
    }
   ],
   "source": [
    "df.groupby('job')"
   ]
  },
  {
   "cell_type": "markdown",
   "metadata": {},
   "source": [
    "1. job 종류 확인 : unique()\n",
    "2. job 별 개수 확인 :  value_counts()"
   ]
  },
  {
   "cell_type": "code",
   "execution_count": 45,
   "metadata": {},
   "outputs": [
    {
     "data": {
      "text/plain": [
       "name  age   job  hobby\n",
       "이영자   45.0  상담사  talk     1\n",
       "유재석   41.0  교수   art      1\n",
       "신동엽   20.0  연예인  music    1\n",
       "      0.0   연예인  music    1\n",
       "김새롬   18.0  학생   study    1\n",
       "강호동   38.0  연예인  talk     1\n",
       "dtype: int64"
      ]
     },
     "execution_count": 45,
     "metadata": {},
     "output_type": "execute_result"
    }
   ],
   "source": [
    "# df의 데이터의 중복된 개수 확인\n",
    "df.value_counts()"
   ]
  },
  {
   "cell_type": "code",
   "execution_count": 47,
   "metadata": {},
   "outputs": [
    {
     "data": {
      "text/plain": [
       "연예인    3\n",
       "학생     1\n",
       "교수     1\n",
       "상담사    1\n",
       "Name: job, dtype: int64"
      ]
     },
     "execution_count": 47,
     "metadata": {},
     "output_type": "execute_result"
    }
   ],
   "source": [
    "# df의 job series에서 중복되는 데이터의 수를 보여준다.\n",
    "df['job'].value_counts()"
   ]
  },
  {
   "cell_type": "code",
   "execution_count": 48,
   "metadata": {},
   "outputs": [
    {
     "data": {
      "text/html": [
       "<div>\n",
       "<style scoped>\n",
       "    .dataframe tbody tr th:only-of-type {\n",
       "        vertical-align: middle;\n",
       "    }\n",
       "\n",
       "    .dataframe tbody tr th {\n",
       "        vertical-align: top;\n",
       "    }\n",
       "\n",
       "    .dataframe thead th {\n",
       "        text-align: right;\n",
       "    }\n",
       "</style>\n",
       "<table border=\"1\" class=\"dataframe\">\n",
       "  <thead>\n",
       "    <tr style=\"text-align: right;\">\n",
       "      <th></th>\n",
       "      <th>age</th>\n",
       "    </tr>\n",
       "    <tr>\n",
       "      <th>hobby</th>\n",
       "      <th></th>\n",
       "    </tr>\n",
       "  </thead>\n",
       "  <tbody>\n",
       "    <tr>\n",
       "      <th>art</th>\n",
       "      <td>41.0</td>\n",
       "    </tr>\n",
       "    <tr>\n",
       "      <th>music</th>\n",
       "      <td>20.0</td>\n",
       "    </tr>\n",
       "    <tr>\n",
       "      <th>study</th>\n",
       "      <td>18.0</td>\n",
       "    </tr>\n",
       "    <tr>\n",
       "      <th>talk</th>\n",
       "      <td>83.0</td>\n",
       "    </tr>\n",
       "  </tbody>\n",
       "</table>\n",
       "</div>"
      ],
      "text/plain": [
       "        age\n",
       "hobby      \n",
       "art    41.0\n",
       "music  20.0\n",
       "study  18.0\n",
       "talk   83.0"
      ]
     },
     "execution_count": 48,
     "metadata": {},
     "output_type": "execute_result"
    }
   ],
   "source": [
    "# 취미별 grouping 후에 연산이 가능한 series의 값의 합을 자동 도출\n",
    "df.groupby('hobby').sum()"
   ]
  },
  {
   "cell_type": "code",
   "execution_count": null,
   "metadata": {},
   "outputs": [],
   "source": []
  },
  {
   "cell_type": "code",
   "execution_count": null,
   "metadata": {},
   "outputs": [],
   "source": []
  },
  {
   "cell_type": "code",
   "execution_count": null,
   "metadata": {},
   "outputs": [],
   "source": []
  },
  {
   "cell_type": "code",
   "execution_count": null,
   "metadata": {},
   "outputs": [],
   "source": []
  },
  {
   "cell_type": "code",
   "execution_count": null,
   "metadata": {},
   "outputs": [],
   "source": []
  },
  {
   "cell_type": "code",
   "execution_count": null,
   "metadata": {},
   "outputs": [],
   "source": []
  },
  {
   "cell_type": "code",
   "execution_count": null,
   "metadata": {},
   "outputs": [],
   "source": []
  },
  {
   "cell_type": "code",
   "execution_count": null,
   "metadata": {},
   "outputs": [],
   "source": []
  },
  {
   "cell_type": "code",
   "execution_count": null,
   "metadata": {},
   "outputs": [],
   "source": []
  },
  {
   "cell_type": "code",
   "execution_count": null,
   "metadata": {},
   "outputs": [],
   "source": []
  },
  {
   "cell_type": "code",
   "execution_count": null,
   "metadata": {},
   "outputs": [],
   "source": []
  },
  {
   "cell_type": "code",
   "execution_count": null,
   "metadata": {},
   "outputs": [],
   "source": []
  },
  {
   "cell_type": "code",
   "execution_count": null,
   "metadata": {},
   "outputs": [],
   "source": []
  },
  {
   "cell_type": "code",
   "execution_count": null,
   "metadata": {},
   "outputs": [],
   "source": []
  },
  {
   "cell_type": "code",
   "execution_count": null,
   "metadata": {},
   "outputs": [],
   "source": []
  },
  {
   "cell_type": "code",
   "execution_count": null,
   "metadata": {},
   "outputs": [],
   "source": []
  },
  {
   "cell_type": "code",
   "execution_count": null,
   "metadata": {},
   "outputs": [],
   "source": []
  },
  {
   "cell_type": "code",
   "execution_count": null,
   "metadata": {},
   "outputs": [],
   "source": []
  },
  {
   "cell_type": "code",
   "execution_count": null,
   "metadata": {},
   "outputs": [],
   "source": []
  },
  {
   "cell_type": "code",
   "execution_count": null,
   "metadata": {},
   "outputs": [],
   "source": []
  },
  {
   "cell_type": "code",
   "execution_count": null,
   "metadata": {},
   "outputs": [],
   "source": []
  },
  {
   "cell_type": "code",
   "execution_count": null,
   "metadata": {},
   "outputs": [],
   "source": []
  },
  {
   "cell_type": "code",
   "execution_count": null,
   "metadata": {},
   "outputs": [],
   "source": []
  },
  {
   "cell_type": "code",
   "execution_count": null,
   "metadata": {},
   "outputs": [],
   "source": []
  },
  {
   "cell_type": "code",
   "execution_count": null,
   "metadata": {},
   "outputs": [],
   "source": []
  },
  {
   "cell_type": "code",
   "execution_count": null,
   "metadata": {},
   "outputs": [],
   "source": []
  },
  {
   "cell_type": "code",
   "execution_count": null,
   "metadata": {},
   "outputs": [],
   "source": []
  }
 ],
 "metadata": {
  "kernelspec": {
   "display_name": "Python 3",
   "language": "python",
   "name": "python3"
  },
  "language_info": {
   "codemirror_mode": {
    "name": "ipython",
    "version": 3
   },
   "file_extension": ".py",
   "mimetype": "text/x-python",
   "name": "python",
   "nbconvert_exporter": "python",
   "pygments_lexer": "ipython3",
   "version": "3.8.5"
  },
  "toc": {
   "base_numbering": 1,
   "nav_menu": {},
   "number_sections": true,
   "sideBar": true,
   "skip_h1_title": false,
   "title_cell": "Table of Contents",
   "title_sidebar": "Contents",
   "toc_cell": false,
   "toc_position": {
    "height": "calc(100% - 180px)",
    "left": "10px",
    "top": "150px",
    "width": "312.727px"
   },
   "toc_section_display": true,
   "toc_window_display": true
  }
 },
 "nbformat": 4,
 "nbformat_minor": 4
}
