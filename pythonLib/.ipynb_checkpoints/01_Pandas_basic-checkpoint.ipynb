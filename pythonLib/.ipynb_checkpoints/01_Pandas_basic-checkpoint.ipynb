{
 "cells": [
  {
   "cell_type": "markdown",
   "metadata": {},
   "source": [
    "# Pandas 학습\n",
    "1. 데이터 분석을 위한 모듈\n",
    "2. excel과 가장 큰 차이점 = Pandas는 대용량 데이터 처리가 가능하다\n",
    "3. 데이터 분석 및 데이터 가공에 절대적으로 사용되는 library\n",
    "4. 주요 학습 내용\n",
    "    - DataFrame - excel의 다수의 컬럼들을 보유한 table과 동일하다 간주함\n",
    "    - Series - DataFrame을 구성하는 column "
   ]
  },
  {
   "cell_type": "markdown",
   "metadata": {},
   "source": [
    "**참고**\n",
    "주피터 노트북 익스텐션을 활용하여 생산성 높이기\n",
    "> !pip install jupyter_contrib_nbextensions && jupyter contrib nbextension install\n",
    "\n",
    "상단의 명령어를 통해 설치하면 왼쪽처럼 목차가 뜬다.<br>\n",
    "설치 후 table of contents, autopep8를 체크하면 된다.<br>\n",
    "위에 망치모양이 코드의 형태를 이쁘게 맞춰주는 아이다.<br>\n",
    "vsc에서 shith alt F와 같은 역할 <br>\n",
    "- `!`이건 prompt 창에서 다음 명령어를 실행하는 것과 같은 기능을 한다."
   ]
  },
  {
   "cell_type": "markdown",
   "metadata": {},
   "source": [
    "## 기초 익히기\n",
    "- 이미 존재하는 파일의 내용으로 DataFrame 생성하기\n",
    "> 중복 데이터 제거, 결측시 처리"
   ]
  },
  {
   "cell_type": "markdown",
   "metadata": {},
   "source": [
    "### DataFrame  & Series 구조 \n",
    "> https://pandas.pydata.org/docs/getting_started/index.html <br>\n",
    "    \n",
    "- pandas 설치\n",
    "> !pip show pandas"
   ]
  },
  {
   "cell_type": "code",
   "execution_count": 3,
   "metadata": {},
   "outputs": [],
   "source": [
    "# 전처리를 위한 library import\n",
    "# as 키워드는 library 별칭 부여 : pd 관습적으로 사용\n",
    "import pandas as pd\n",
    "import numpy as np"
   ]
  },
  {
   "cell_type": "code",
   "execution_count": null,
   "metadata": {},
   "outputs": [],
   "source": []
  }
 ],
 "metadata": {
  "kernelspec": {
   "display_name": "Python 3",
   "language": "python",
   "name": "python3"
  },
  "language_info": {
   "codemirror_mode": {
    "name": "ipython",
    "version": 3
   },
   "file_extension": ".py",
   "mimetype": "text/x-python",
   "name": "python",
   "nbconvert_exporter": "python",
   "pygments_lexer": "ipython3",
   "version": "3.8.5"
  },
  "toc": {
   "base_numbering": 1,
   "nav_menu": {},
   "number_sections": true,
   "sideBar": true,
   "skip_h1_title": false,
   "title_cell": "Table of Contents",
   "title_sidebar": "Contents",
   "toc_cell": false,
   "toc_position": {},
   "toc_section_display": true,
   "toc_window_display": true
  }
 },
 "nbformat": 4,
 "nbformat_minor": 4
}
